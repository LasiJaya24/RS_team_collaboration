{
 "cells": [
  {
   "cell_type": "markdown",
   "metadata": {},
   "source": [
    "### Enter variables"
   ]
  },
  {
   "cell_type": "code",
   "execution_count": 1,
   "metadata": {},
   "outputs": [],
   "source": [
    "# Input files\n",
    "storage_shapefile = \"BR_Sample_Parcels.shp\"\n",
    "storage_id_field = \"qldglobe_p\"\n",
    "\n",
    "# Output files\n",
    "outputCSV = \"GEE_Map_Cropping_Landsat.csv\"\n",
    "\n",
    "# Cloud cover\n",
    "CLOUD_FILTER = 20 # Under 40%\n",
    "\n",
    "# Thresholds\n",
    "ndwiMaskVal = -0.1\n",
    "ndviMaskVal = -0.1\n",
    "\n",
    "# UTM Zone\n",
    "utmZoneInfo = 'EPSG:28355'#z55S\n",
    "\n",
    "# Dates\n",
    "start_date = '1986-01-01'\n",
    "end_date = '2023-01-01'"
   ]
  },
  {
   "cell_type": "markdown",
   "metadata": {},
   "source": [
    "### Import modules"
   ]
  },
  {
   "cell_type": "code",
   "execution_count": 2,
   "metadata": {
    "scrolled": false
   },
   "outputs": [],
   "source": [
    "import ee, geemap, folium, pandas, geopandas as gpd, json, datetime, altair as alt, csv\n",
    "from IPython.display import Image\n",
    "import ee.mapclient\n",
    "import datetime\n",
    "import os\n",
    "from os.path import exists as file_exists\n",
    "\n",
    "import requests\n",
    "\n",
    "# importing pandas as pd\n",
    "import pandas as pd"
   ]
  },
  {
   "cell_type": "markdown",
   "metadata": {},
   "source": [
    "### Declare functions"
   ]
  },
  {
   "cell_type": "code",
   "execution_count": 3,
   "metadata": {},
   "outputs": [],
   "source": [
    "def test_api():\n",
    "    dem = ee.Image('USGS/SRTMGL1_003')\n",
    "    xy = ee.Geometry.Point([86.9250, 27.9881])\n",
    "    elev = dem.sample(xy, 30).first().get('elevation').getInfo()\n",
    "    print('Authentication active')\n",
    "\n",
    "#NDVI calculation:\n",
    "def areadate(img):\n",
    "    area = img.gt(0).multiply(ee.Image.pixelArea()).divide(1000000).reduceRegion(ee.Reducer.sum(), storage_geometry, 30).get('NDWI');\n",
    "    return img.set('area', area).set('date', img.get('system:time_start'));\n",
    "\n",
    "def ndwi_func(i):\n",
    "    ndwi = i.normalizedDifference (['B2', 'B5']).rename('NDWI')\n",
    "    return i.addBands(ee.Image(ndwi))\n",
    "\n",
    "def addDate(image):\n",
    "    # parse date stored in 'system:index'\n",
    "    date = ee.Date(image.get('system:index'))\n",
    "\n",
    "    # format date, see http:#www.joda.org/joda-time/apidocs/org/joda/time/format/DateTimeFormat.html\n",
    "    str = date.format('YYYY-mm-dd')\n",
    "\n",
    "    return image.set({'Date': str})\n",
    "\n",
    "def mean_func(image):\n",
    "    mean = (image                        \n",
    "            #.mean()\n",
    "            .reduceRegion(ee.Reducer.mean()))#, storage_geometry, 30))\n",
    "    mean = mean.getInfo()            \n",
    "    mean = mean.get('nd')    \n",
    "    return mean\n",
    "\n",
    "def year_func(y):\n",
    "    range = ee.Filter.calendarRange (y, y, 'year')\n",
    "    mean = (l57ndwi\n",
    "            .filter(range)\n",
    "            .select('NDWI')\n",
    "            .mean()\n",
    "            .reduceRegion(ee.Reducer.mean(), storage_geometry, 30))\n",
    "    return mean.set('year', y)\n",
    "\n",
    "def get_area(img):\n",
    "    total_area = img.multiply(ee.Image.pixelArea())\n",
    "    ndwi = img.gte(ndwiMaskVal).rename('ndwiMaskLayer')\n",
    "    ndwi_area = ndwi.multiply(ee.Image.pixelArea())\n",
    "    return img.set('total_area', total_area).set('ndwi_area', ndwi_area)\n",
    "\n",
    "def test_api():\n",
    "    dem = ee.Image('USGS/SRTMGL1_003')\n",
    "    xy = ee.Geometry.Point([86.9250, 27.9881])\n",
    "    elev = dem.sample(xy, 30).first().get('elevation').getInfo()\n",
    "    print('Authentication active')\n",
    "    \n",
    "def transformer(feature):\n",
    "    transformed_feature = feature.transform(utmZoneInfo, 0.001);\n",
    "    return transformed_feature;\n",
    "\n",
    "#def get_area(feature):\n",
    "#    area = feature.area()\n",
    "#    area = ee.Number(area).divide(1e6).round()\n",
    "#    return area\n",
    "\n",
    "def extract_water(img):\n",
    "    ndwi_image = img.normalizedDifference(['B2', 'B5'])\n",
    "    water_image = ndwi_image.gt(ndwiMaskVal)\n",
    "    return water_image\n",
    "\n",
    "def get_stats(image):\n",
    "    date = ee.Date(image.get('system:time_start'))        \n",
    "    date = date.format('dd-MM-YYYY')\n",
    "    allPixels = image.get('allPixels')\n",
    "    allPixels = allPixels.getInfo()\n",
    "    ndwiPixels = image.get('ndwiPixels')\n",
    "    ndwiPixels = ndwiPixels.getInfo()\n",
    "    CLOUD_COVER = image.get('CLOUD_COVER')\n",
    "    CLOUD_COVER = CLOUD_COVER.getInfo()\n",
    "    return date, allPixels, ndwiPixels, CLOUD_COVER\n",
    "\n",
    "def filterImages(storage_geometry):\n",
    "    # Load Landsat 5 & 7\n",
    "    l5 = ee.ImageCollection(\"LANDSAT/LT05/C01/T1_SR\")\n",
    "    l7 = ee.ImageCollection(\"LANDSAT/LE07/C01/T1_SR\")\n",
    "    # Merge Landsat 5 & 7\n",
    "    l57merge = l5.merge(l7) \n",
    "    # Filter landsat collections by area, cloud cover and bands required for NDWI\n",
    "    l57filter = (l57merge.filterBounds(storage_geometry)\n",
    "              .filterDate(start_date, end_date)\n",
    "              .select(['B1','B2','B3','B4','B5'])\n",
    "              .map(lambda image: image.clip(storage_geometry).reproject(crs=utmZoneInfo)))\n",
    "              #.filterMetadata('CLOUD_COVER', 'less_than', CLOUD_FILTER))\n",
    "    # Add date\n",
    "    l57filter.map(addDate)\n",
    "    # Sort by date\n",
    "    images = l57filter.sort('Date')\n",
    "    return images\n",
    "\n",
    "def exportStats(worksNumber):\n",
    "    # Create a new dataframe\n",
    "    storageStats = pandas.DataFrame(columns=['Works Number', 'Date', 'Total Area', 'Water Area', 'NDVI', 'NDWI', 'MNDWI', 'Cloud Cover'])        \n",
    "    # Select the feature\n",
    "    storage_selection = storage_collection.filter(ee.Filter.eq(\"Wks_Num_tx\", worksNumber))   \n",
    "    # Get the geometry\n",
    "    storage_geometry = storage_selection.geometry()\n",
    "    # Create list of images\n",
    "    images = filterImages(storage_geometry)\n",
    "    # Create a list of images\n",
    "    imageSize = images.size().getInfo()    \n",
    "    imageList = images.toList(images.size())            \n",
    "    # Get stats ##\n",
    "    # For each image\n",
    "    for i in range(0, imageSize):    \n",
    "        # Choose the image\n",
    "        image = ee.Image(imageList.get(i))\n",
    "        # Get date\n",
    "        date = ee.Date(image.get('system:time_start')).format(\"yyyy-MM-dd\")\n",
    "        date = date.getInfo()\n",
    "        # Create images\n",
    "        ndvi_image = image.normalizedDifference(['B4', 'B3'])\n",
    "        ndwi_image = image.normalizedDifference(['B4', 'B5'])\n",
    "        mndwi_image = image.normalizedDifference(['B2', 'B5'])\n",
    "        # Get the area of the storage\n",
    "        storage_area = storage_geometry.area(1).getInfo()\n",
    "        # Get water area - Mask water areas using MNDWI\n",
    "        water_image = mndwi_image.gt(ndwiMaskVal).selfMask()\n",
    "        water_vector = water_image.reduceToVectors()\n",
    "        water_area = water_vector.geometry().area(1).getInfo()\n",
    "        # Get average ndvi, ndwi and mndwi values            \n",
    "        ndvi = mean_func(ndvi_image)\n",
    "        ndwi = mean_func(ndwi_image)\n",
    "        mndwi = mean_func(mndwi_image)\n",
    "        # Get cloud cover\n",
    "        cloudiness = image.get(\"CLOUD_COVER\").getInfo()\n",
    "        # Add results to storage stats dataframe\n",
    "        results = [worksNumber,date,storage_area,water_area,ndvi,ndwi,mndwi,cloudiness]\n",
    "        #print(results)\n",
    "        storageStats.loc[len(storageStats)] = results   \n",
    "        # Export image\n",
    "        #exportRGBImage(image)\n",
    "    # Save to CSV\n",
    "    storageStats.to_csv(outputCSV)\n",
    "    \n",
    "def exportRGBImage(image):\n",
    "    # Create a image filename\n",
    "    filename = worksNumber + \"_\" + str(date) + \".tif\"\n",
    "    # Create a RGB image for export\n",
    "    stats = image.reduceRegion(reducer=ee.Reducer.minMax(),geometry=storage_geometry,scale=100,bestEffort=True)\n",
    "    statDict = stats.getInfo()\n",
    "    prettyImg = image.visualize(bands=['B3', 'B2', 'B1'],\n",
    "             min=[statDict['B3_min'],statDict['B2_min'],statDict['B1_min']],\n",
    "             max=[statDict['B3_max'],statDict['B2_max'],statDict['B1_max']],\n",
    "             gamma=1)\n",
    "    # Export multi-band GeoTIFF file.\n",
    "    url = prettyImg.getDownloadUrl({\n",
    "        #'bands': ['B3', 'B2', 'B1'],\n",
    "        #'region': region,\n",
    "        #'scale': 20,\n",
    "        'format': 'GEO_TIFF'\n",
    "    })            \n",
    "    response = requests.get(url)\n",
    "    with open(filename, 'wb') as fd:                \n",
    "      fd.write(response.content)\n",
    "    return"
   ]
  },
  {
   "cell_type": "markdown",
   "metadata": {},
   "source": [
    "### Authenticate Earth Engine"
   ]
  },
  {
   "cell_type": "code",
   "execution_count": 4,
   "metadata": {},
   "outputs": [
    {
     "data": {
      "text/html": [
       "<p>To authorize access needed by Earth Engine, open the following\n",
       "        URL in a web browser and follow the instructions:</p>\n",
       "        <p><a href=https://code.earthengine.google.com/client-auth?scopes=https%3A//www.googleapis.com/auth/earthengine%20https%3A//www.googleapis.com/auth/devstorage.full_control&request_id=IFOs9fBbxGcdECkFe16NI7I_WIrom_KB-5vGoaobV7k&tc=hpS2GbiS6hkhQtn5j3sA0MmeP9nZhcmMDauOwY3mgmA&cc=RQSypCnWkwV87Rx5r3odEwCYbPrL5hZA_IC4LPK7RqQ>https://code.earthengine.google.com/client-auth?scopes=https%3A//www.googleapis.com/auth/earthengine%20https%3A//www.googleapis.com/auth/devstorage.full_control&request_id=IFOs9fBbxGcdECkFe16NI7I_WIrom_KB-5vGoaobV7k&tc=hpS2GbiS6hkhQtn5j3sA0MmeP9nZhcmMDauOwY3mgmA&cc=RQSypCnWkwV87Rx5r3odEwCYbPrL5hZA_IC4LPK7RqQ</a></p>\n",
       "        <p>The authorization workflow will generate a code, which you should paste in the box below.</p>\n",
       "        "
      ],
      "text/plain": [
       "<IPython.core.display.HTML object>"
      ]
     },
     "metadata": {},
     "output_type": "display_data"
    },
    {
     "name": "stdout",
     "output_type": "stream",
     "text": [
      "Enter verification code: 4/1AWtgzh4a2dtwps6LZYD5XbnCUJ6ecwnC-5539a6NiyDlRf7EFMk7MkbSWug\n",
      "\n",
      "Successfully saved authorization token.\n"
     ]
    }
   ],
   "source": [
    "# Test access then authenticate if fails\n",
    "try:\n",
    "    test_api()\n",
    "except:    \n",
    "    ee.Authenticate()\n",
    " \n",
    "# Initialize the library.\n",
    "ee.Initialize()"
   ]
  },
  {
   "cell_type": "markdown",
   "metadata": {},
   "source": [
    "### Convert shapefile into feature collection"
   ]
  },
  {
   "cell_type": "code",
   "execution_count": 5,
   "metadata": {},
   "outputs": [
    {
     "data": {
      "text/plain": [
       "<ee.featurecollection.FeatureCollection at 0x1c533190940>"
      ]
     },
     "execution_count": 5,
     "metadata": {},
     "output_type": "execute_result"
    }
   ],
   "source": [
    "# Load shapefile into geopandas\n",
    "storage_shapes = gpd.read_file(storage_shapefile)\n",
    "\n",
    "# Convert shapes into json\n",
    "json_storages = json.loads(storage_shapes.to_json())\n",
    "\n",
    "# Convert json into feature collection\n",
    "storage_collection =  ee.FeatureCollection(json_storages)\n",
    "\n",
    "# Reproject collection\n",
    "storage_collection = storage_collection.map(transformer);\n",
    "\n",
    "# Add area\n",
    "storage_collection.map(lambda feature: feature.set('total_area', ee.Number(feature.area()).divide(1e6).round()))"
   ]
  },
  {
   "cell_type": "markdown",
   "metadata": {},
   "source": [
    "### Get a list of Storage IDs"
   ]
  },
  {
   "cell_type": "code",
   "execution_count": 6,
   "metadata": {},
   "outputs": [
    {
     "name": "stdout",
     "output_type": "stream",
     "text": [
      "['101SP207166', '108SP207166', '110F6901', '111F6901', '11RP218867', '14CVN407', '15CVN386', '16BLM76', '17CVN407', '1BLM66', '1BLM846', '1PER4265', '1RP225469', '1SP132773', '236RP851344', '23SP225448', '24PG406', '25PG260', '297SP146073', '2BLM1', '2BLM465', '2SP276749', '31BLM809', '33CP849174', '39BLM782', '3BLM1', '3RP225469', '3SP276749', '4BEL5359', '4SP276749', '5RP212965', '5RP213579', '5SP225462', '5SP276749', '612RP909550', '62SP225462', '63CP858891', '6RP213579', '71RP213572', '73RP213572', '7BLM715', '8CVN140', 'AAP21199']\n"
     ]
    }
   ],
   "source": [
    "# list the unique quality code values\n",
    "worksSet = sorted(storage_shapes[storage_id_field].unique())\n",
    "print(worksSet)"
   ]
  },
  {
   "cell_type": "markdown",
   "metadata": {},
   "source": [
    "### Clip imagery to each storage"
   ]
  },
  {
   "cell_type": "code",
   "execution_count": null,
   "metadata": {},
   "outputs": [
    {
     "name": "stdout",
     "output_type": "stream",
     "text": [
      "Starting at 2022-09-09 08:06:03.792559\n"
     ]
    }
   ],
   "source": [
    "# Start timer\n",
    "startNow = datetime.datetime.now()\n",
    "print(\"Starting at \" + str(startNow))\n",
    "\n",
    "# For each storage\n",
    "for worksNumber in worksSet:\n",
    "    \n",
    "    # Create file name for csv export\n",
    "    outputCSV = worksNumber + \"_Landsat_Timeseries.csv\"\n",
    "    \n",
    "    # Check if already completed\n",
    "    if file_exists(outputCSV):\n",
    "        \n",
    "        print(\"Skipping \" + x)\n",
    "        \n",
    "    else:\n",
    "        \n",
    "        # Create an image function to map\n",
    "        exportStats(worksNumber)\n",
    "        \n",
    "# Print the storage stats\n",
    "print(\"Finished\")\n",
    "\n",
    "# Finish time\n",
    "endNow = datetime.datetime.now()\n",
    "diff = (endNow-startNow).total_seconds()\n",
    "print(\"End at \" + str(endNow))\n",
    "print(\"Taking: \" + str(diff) + \" seconds\")"
   ]
  }
 ],
 "metadata": {
  "kernelspec": {
   "display_name": "Python 3",
   "language": "python",
   "name": "python3"
  },
  "language_info": {
   "codemirror_mode": {
    "name": "ipython",
    "version": 3
   },
   "file_extension": ".py",
   "mimetype": "text/x-python",
   "name": "python",
   "nbconvert_exporter": "python",
   "pygments_lexer": "ipython3",
   "version": "3.8.3"
  }
 },
 "nbformat": 4,
 "nbformat_minor": 4
}
