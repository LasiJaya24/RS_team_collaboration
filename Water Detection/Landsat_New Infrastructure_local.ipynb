{
 "cells": [
  {
   "cell_type": "markdown",
   "metadata": {},
   "source": [
    "### Enter variables"
   ]
  },
  {
   "cell_type": "markdown",
   "metadata": {},
   "source": []
  },
  {
   "cell_type": "code",
   "execution_count": 2,
   "metadata": {},
   "outputs": [],
   "source": [
    "# Input files\n",
    "storage_shapefile = \"OLF_Storages_RobClean.shp\"\n",
    "storage_id_field = \"Wks_Num_tx\"\n",
    "\n",
    "# Output files\n",
    "outputCSV = \"GEE_Map_Landsat.csv\"\n",
    "\n",
    "# Cloud cover\n",
    "CLOUD_FILTER = 40 # Under 40%\n",
    "\n",
    "# Thresholds\n",
    "ndwiMaskVal = -0.1\n",
    "\n",
    "# UTM Zone\n",
    "utmZoneInfo = 'EPSG:28355'#z55S\n",
    "\n",
    "# Dates\n",
    "start_date = '1986-01-01'\n",
    "end_date = '2023-02-22'"
   ]
  },
  {
   "cell_type": "markdown",
   "metadata": {},
   "source": [
    "### Import modules"
   ]
  },
  {
   "cell_type": "code",
   "execution_count": 3,
   "metadata": {
    "scrolled": false
   },
   "outputs": [
    {
     "ename": "ModuleNotFoundError",
     "evalue": "No module named 'ee'",
     "output_type": "error",
     "traceback": [
      "\u001b[1;31m---------------------------------------------------------------------------\u001b[0m",
      "\u001b[1;31mModuleNotFoundError\u001b[0m                       Traceback (most recent call last)",
      "\u001b[1;32m<ipython-input-3-5ff4cf6b34c4>\u001b[0m in \u001b[0;36m<module>\u001b[1;34m\u001b[0m\n\u001b[1;32m----> 1\u001b[1;33m \u001b[1;32mimport\u001b[0m \u001b[0mee\u001b[0m\u001b[1;33m,\u001b[0m \u001b[0mgeemap\u001b[0m\u001b[1;33m,\u001b[0m \u001b[0mfolium\u001b[0m\u001b[1;33m,\u001b[0m \u001b[0mpandas\u001b[0m\u001b[1;33m,\u001b[0m \u001b[0mgeopandas\u001b[0m \u001b[1;32mas\u001b[0m \u001b[0mgpd\u001b[0m\u001b[1;33m,\u001b[0m \u001b[0mjson\u001b[0m\u001b[1;33m,\u001b[0m \u001b[0mdatetime\u001b[0m\u001b[1;33m,\u001b[0m \u001b[0maltair\u001b[0m \u001b[1;32mas\u001b[0m \u001b[0malt\u001b[0m\u001b[1;33m,\u001b[0m \u001b[0mcsv\u001b[0m\u001b[1;33m\u001b[0m\u001b[1;33m\u001b[0m\u001b[0m\n\u001b[0m\u001b[0;32m      2\u001b[0m \u001b[1;32mfrom\u001b[0m \u001b[0mIPython\u001b[0m\u001b[1;33m.\u001b[0m\u001b[0mdisplay\u001b[0m \u001b[1;32mimport\u001b[0m \u001b[0mImage\u001b[0m\u001b[1;33m\u001b[0m\u001b[1;33m\u001b[0m\u001b[0m\n\u001b[0;32m      3\u001b[0m \u001b[1;32mimport\u001b[0m \u001b[0mee\u001b[0m\u001b[1;33m.\u001b[0m\u001b[0mmapclient\u001b[0m\u001b[1;33m\u001b[0m\u001b[1;33m\u001b[0m\u001b[0m\n\u001b[0;32m      4\u001b[0m \u001b[1;32mimport\u001b[0m \u001b[0mdatetime\u001b[0m\u001b[1;33m\u001b[0m\u001b[1;33m\u001b[0m\u001b[0m\n\u001b[0;32m      5\u001b[0m \u001b[1;32mimport\u001b[0m \u001b[0mos\u001b[0m\u001b[1;33m\u001b[0m\u001b[1;33m\u001b[0m\u001b[0m\n",
      "\u001b[1;31mModuleNotFoundError\u001b[0m: No module named 'ee'"
     ]
    }
   ],
   "source": [
    "import ee, geemap, folium, pandas, geopandas as gpd, json, datetime, altair as alt, csv\n",
    "from IPython.display import Image\n",
    "import ee.mapclient\n",
    "import datetime\n",
    "import os\n",
    "from os.path import exists as file_exists\n",
    "\n",
    "import requests\n",
    "\n",
    "# importing pandas as pd\n",
    "import pandas as pd"
   ]
  },
  {
   "cell_type": "markdown",
   "metadata": {},
   "source": [
    "### Declare functions"
   ]
  },
  {
   "cell_type": "code",
   "execution_count": 50,
   "metadata": {},
   "outputs": [],
   "source": [
    "def test_api():\n",
    "    dem = ee.Image('USGS/SRTMGL1_003')\n",
    "    xy = ee.Geometry.Point([86.9250, 27.9881])\n",
    "    elev = dem.sample(xy, 30).first().get('elevation').getInfo()\n",
    "    print('Authentication active')\n",
    "\n",
    "#NDVI calculation:\n",
    "def areadate(img):\n",
    "    area = img.gt(0).multiply(ee.Image.pixelArea()).divide(1000000).reduceRegion(ee.Reducer.sum(), storage_geometry, 30).get('NDWI');\n",
    "    return img.set('area', area).set('date', img.get('system:time_start'));\n",
    "\n",
    "def ndwi_func(i):\n",
    "    ndwi = i.normalizedDifference (['green', 'swir']).rename('NDWI')\n",
    "    return i.addBands(ee.Image(ndwi))\n",
    "\n",
    "def ndvi_func(i):\n",
    "    ndvi = i.normalizedDifference (['red', 'swir']).rename('NDVI')\n",
    "    return i.addBands(ee.Image(ndvi))\n",
    "\n",
    "def mndwi_func(i):\n",
    "    mndwi = i.normalizedDifference (['nir', 'swir']).rename('MNDWI')\n",
    "    return i.addBands(ee.Image(mndwi))\n",
    "\n",
    "def addDate(image):\n",
    "    # parse date stored in 'system:index'\n",
    "    date = ee.Date(image.get('system:index'))\n",
    "\n",
    "    # format date, see http:#www.joda.org/joda-time/apidocs/org/joda/time/format/DateTimeFormat.html\n",
    "    str = date.format('YYYY-mm-dd')\n",
    "\n",
    "    return image.set({'Date': str})\n",
    "\n",
    "def mean_func(image):\n",
    "    mean = (image                        \n",
    "            #.mean()\n",
    "            .reduceRegion(ee.Reducer.mean()))#, storage_geometry, 30))\n",
    "    mean = mean.getInfo()            \n",
    "    mean = mean.get('nd')    \n",
    "    return mean\n",
    "\n",
    "def year_func(y):\n",
    "    range = ee.Filter.calendarRange (y, y, 'year')\n",
    "    mean = (l57ndwi\n",
    "            .filter(range)\n",
    "            .select('NDWI')\n",
    "            .mean()\n",
    "            .reduceRegion(ee.Reducer.mean(), storage_geometry, 30))\n",
    "    return mean.set('year', y)\n",
    "\n",
    "def year_indices(y):\n",
    "    range = ee.Filter.calendarRange (y, y, 'year')\n",
    "    ndwimean = (images\n",
    "        .select('NDWI')\n",
    "        .filter(range)\n",
    "        .mean()\n",
    "        .reduceRegion(ee.Reducer.mean(), storage_geometry, 30))        \n",
    "    ndwimean = ndwimean.getInfo()\n",
    "\n",
    "    ndvimean = (images\n",
    "        .select('NDVI')\n",
    "        .filter(range)\n",
    "        .mean()\n",
    "        .reduceRegion(ee.Reducer.mean(), storage_geometry, 30))        \n",
    "    ndvimean = ndwimean.getInfo()\n",
    "\n",
    "    ndwimean = (images\n",
    "        .select('MNDWI')\n",
    "        .filter(range)\n",
    "        .mean()\n",
    "        .reduceRegion(ee.Reducer.mean(), storage_geometry, 30))        \n",
    "    mndwimean = ndwimean.getInfo()\n",
    "\n",
    "    results = [worksNumber,y,ndwimean,ndvimean,mndwimean]\n",
    "    storageStats.loc[len(storageStats)] = results \n",
    "    print(results)\n",
    "    \n",
    "def get_area(img):\n",
    "    total_area = img.multiply(ee.Image.pixelArea())\n",
    "    ndwi = img.gte(ndwiMaskVal).rename('ndwiMaskLayer')\n",
    "    ndwi_area = ndwi.multiply(ee.Image.pixelArea())\n",
    "    return img.set('total_area', total_area).set('ndwi_area', ndwi_area)\n",
    "\n",
    "def test_api():\n",
    "    dem = ee.Image('USGS/SRTMGL1_003')\n",
    "    xy = ee.Geometry.Point([86.9250, 27.9881])\n",
    "    elev = dem.sample(xy, 30).first().get('elevation').getInfo()\n",
    "    print('Authentication active')\n",
    "    \n",
    "def transformer(feature):\n",
    "    transformed_feature = feature.transform(utmZoneInfo, 0.001);\n",
    "    return transformed_feature;\n",
    "\n",
    "#def get_area(feature):\n",
    "#    area = feature.area()\n",
    "#    area = ee.Number(area).divide(1e6).round()\n",
    "#    return area\n",
    "\n",
    "def extract_water(img):\n",
    "    ndwi_image = img.normalizedDifference(['B2', 'B5'])\n",
    "    water_image = ndwi_image.gt(ndwiMaskVal)\n",
    "    return water_image\n",
    "\n",
    "def get_stats(image):\n",
    "    date = ee.Date(image.get('system:time_start'))        \n",
    "    date = date.format('dd-MM-YYYY')\n",
    "    allPixels = image.get('allPixels')\n",
    "    allPixels = allPixels.getInfo()\n",
    "    ndwiPixels = image.get('ndwiPixels')\n",
    "    ndwiPixels = ndwiPixels.getInfo()\n",
    "    CLOUD_COVER = image.get('CLOUD_COVER')\n",
    "    CLOUD_COVER = CLOUD_COVER.getInfo()\n",
    "    return date, allPixels, ndwiPixels, CLOUD_COVER\n",
    "\n",
    "def rename_bands(bands):\n",
    "    image.select(bands,STD_NAMES)\n",
    "    return image\n",
    "    \n",
    "\n",
    "def filterImages(storage_geometry):\n",
    "    # Get band names\n",
    "    S2_BANDS = ['B2',   'B3',    'B4',  'B8',  'B11']; #Sentinel 2\n",
    "    LC8_BANDS = ['B2',   'B3',    'B4',  'B5',  'B6']; #Landsat 8\n",
    "    LC457_BANDS = ['B1',   'B2',    'B3',  'B4',  'B5']; #Landsat 4,5,7\n",
    "    STD_NAMES = ['blue', 'green', 'red', 'nir', 'swir'] # Standard names\n",
    "    \n",
    "    # Load Landsat 5, 7, 8\n",
    "    s2 = ee.ImageCollection(\"COPERNICUS/S2_SR\").filterBounds(storage_geometry).select(['B2','B3','B4','B8','B11'])\n",
    "    l4 = ee.ImageCollection(\"LANDSAT/LT04/C02/T1_L2\").filterBounds(storage_geometry).select(['B1','B2','B3','B4','B5'])\n",
    "    l5 = ee.ImageCollection(\"LANDSAT/LT05/C02/T1_L2\").filterBounds(storage_geometry).select(['B1','B2','B3','B4','B5'])\n",
    "    l7 = ee.ImageCollection(\"LANDSAT/LE07/C02/T1_L2\").filterBounds(storage_geometry).select(['B1','B2','B3','B4','B5'])\n",
    "    l8 = ee.ImageCollection(\"LANDSAT/LC08/C02/T1_L2\").filterBounds(storage_geometry).select(['B2','B3','B4','B5','B6'])\n",
    "    \n",
    "    # Rename bands\n",
    "    s2 = s2.map(lambda image: image.select(S2_BANDS, STD_NAMES))\n",
    "    l4 = l4.map(lambda image: image.select(LC457_BANDS, STD_NAMES))\n",
    "    l5 = l5.map(lambda image: image.select(LC457_BANDS, STD_NAMES))\n",
    "    l7 = l7.map(lambda image: image.select(LC457_BANDS, STD_NAMES))\n",
    "    l8 = l8.map(lambda image: image.select(LC8_BANDS, STD_NAMES))\n",
    "    \n",
    "    # Filter images by cloud cover\n",
    "    s2 = s2.filter(ee.Filter.lt('CLOUDY_PIXEL_PERCENTAGE', CLOUD_FILTER))\n",
    "    l8 = l8.filter(ee.Filter.lt('CLOUD_COVER', CLOUD_FILTER))\n",
    "    l7 =l7.filter(ee.Filter.lt('CLOUD_COVER', CLOUD_FILTER))\n",
    "    l5 = l5.filter(ee.Filter.lt('CLOUD_COVER', CLOUD_FILTER))\n",
    "    l4 = l4.filter(ee.Filter.lt('CLOUD_COVER', CLOUD_FILTER))\n",
    "    \n",
    "    # Merge collections\n",
    "    images = l4.merge(l5).merge(l7).merge(l8).merge(s2)\n",
    "    # Clip images to storage\n",
    "    images = images.map(lambda image: image.clip(storage_geometry).reproject(crs=utmZoneInfo))\n",
    "    #.filterDate(start_date, end_date)\n",
    "    # Add date\n",
    "    images.map(addDate)\n",
    "    # Sort by date\n",
    "    images = images.sort('Date')\n",
    "    # Add indices\n",
    "    images.map(ndwi_func).map(ndvi_func).map(mndwi_func)\n",
    "    return images\n",
    "\n",
    "def exportStats(worksNumber):\n",
    "    # Create a new dataframe\n",
    "    storageStats = pandas.DataFrame(columns=['Works Number', 'Year', 'NDWI', 'NDVI', 'MNDWI'])        \n",
    "    # Select the feature\n",
    "    storage_selection = storage_collection.filter(ee.Filter.eq(\"Wks_Num_tx\", worksNumber))   \n",
    "    # Get the geometry\n",
    "    storage_geometry = storage_selection.geometry()\n",
    "    # Get the area of the storage\n",
    "    storage_area = storage_geometry.area(1).getInfo()\n",
    "    # Create list of images\n",
    "    images = filterImages(storage_geometry)           \n",
    "    # Create a list of images\n",
    "    imageSize = images.size().getInfo()    \n",
    "    imageList = images.toList(images.size())\n",
    "    # Get stats ##\n",
    "    # For each image\n",
    "    for i in range(0, imageSize):    \n",
    "        # Choose the image\n",
    "        image = ee.Image(imageList.get(i))\n",
    "        # Get date\n",
    "        date = ee.Date(image.get('system:time_start')).format(\"yyyy-MM-dd\")\n",
    "        date = date.getInfo()\n",
    "        # Create images\n",
    "        ndvi_image = image.select(\"NDVI\")\n",
    "        ndwi_image = image.select(\"NDWI\")\n",
    "        mndwi_image = image.select(\"MNDWI\")\n",
    "        #ndvi_image = image.normalizedDifference(['B4', 'B3'])\n",
    "        #ndwi_image = image.normalizedDifference(['B4', 'B5'])\n",
    "        #mndwi_image = image.normalizedDifference(['B2', 'B5'])\n",
    "        # Get the area of the storage\n",
    "        storage_area = storage_geometry.area(1).getInfo()\n",
    "        # Get water area - Mask water areas using MNDWI\n",
    "        water_image = mndwi_image.gt(ndwiMaskVal).selfMask()\n",
    "        water_vector = water_image.reduceToVectors()\n",
    "        water_area = water_vector.geometry().area(1).getInfo()\n",
    "        # Get average ndvi, ndwi and mndwi values            \n",
    "        ndvi = mean_func(ndvi_image)\n",
    "        ndwi = mean_func(ndwi_image)\n",
    "        mndwi = mean_func(mndwi_image)\n",
    "        # Get cloud cover\n",
    "        cloudiness = image.get(\"CLOUD_COVER\").getInfo()\n",
    "        # Add results to storage stats dataframe\n",
    "        results = [worksNumber,date,storage_area,water_area,ndvi,ndwi,mndwi,cloudiness]\n",
    "        print(results)\n",
    "        storageStats.loc[len(storageStats)] = results   \n",
    "        # Export image\n",
    "        #exportRGBImage(image)\n",
    "   \n",
    "    # Save to CSV\n",
    "    storageStats.to_csv(outputCSV)\n",
    "\n",
    "def daily_stats(image):\n",
    "    # Get date\n",
    "    date = ee.Date(image.get('system:time_start')).format(\"yyyy-MM-dd\")\n",
    "    date = date.getInfo()\n",
    "    # Create images\n",
    "    ndvi_image = image.select('NDVI')\n",
    "    ndwi_image = image.select('NDWI')\n",
    "    mndwi_image = image.select('MNDWI')\n",
    "    # Get water area - Mask water areas using MNDWI\n",
    "    water_image = mndwi_image.gt(ndwiMaskVal).selfMask()\n",
    "    water_vector = water_image.reduceToVectors()\n",
    "    water_area = water_vector.geometry().area(1).getInfo()\n",
    "    # Get average ndvi, ndwi and mndwi values            \n",
    "    ndvi = mean_func(ndvi_image)\n",
    "    ndwi = mean_func(ndwi_image)\n",
    "    mndwi = mean_func(mndwi_image)\n",
    "    # Get cloud cover\n",
    "    try:\n",
    "        cloudiness = image.get(\"CLOUD_COVER\").getInfo()\n",
    "    except:\n",
    "        cloudiness = image.get(\"CLOUDY_PIXEL_PERCENTAGE\").getInfo()\n",
    "    # Add results to storage stats dataframe\n",
    "    results = [worksNumber,date,storage_area,water_area,ndvi,ndwi,mndwi,cloudiness]\n",
    "    return results\n",
    "    #print(results)\n",
    "    #storageStats.loc[len(storageStats)] = results   \n",
    "    # Export image\n",
    "    #exportRGBImage(image)\n",
    "    \n",
    "    \n",
    "def exportRGBImage(worksNumber):\n",
    "    # Select the feature\n",
    "    storage_selection = storage_collection.filter(ee.Filter.eq(\"Wks_Num_tx\", worksNumber))   \n",
    "    # Get the geometry\n",
    "    storage_geometry = storage_selection.geometry()\n",
    "    storage_geometry = storage_geometry.buffer(distance=500)\n",
    "    storage_geometry = storage_geometry.bounds()\n",
    "    # Get the latest image\n",
    "    s2 = ee.ImageCollection(\"COPERNICUS/S2_SR\").filterBounds(storage_geometry).select(['B2','B3','B4'])\n",
    "    # Filter images by cloud cover\n",
    "    s2 = s2.filter(ee.Filter.lt('CLOUDY_PIXEL_PERCENTAGE', 1))\n",
    "    # Get the latest image\n",
    "    imageSize = s2.size().getInfo()    \n",
    "    imageList = s2.toList(s2.size())\n",
    "    # Choose the image\n",
    "    image = ee.Image(imageList.get(imageSize-1))        \n",
    "    # Create a RGB image for export\n",
    "    stats = image.reduceRegion(reducer=ee.Reducer.minMax(),geometry=storage_geometry,scale=100,bestEffort=True)\n",
    "    statDict = stats.getInfo()\n",
    "    try: \n",
    "        prettyImg = image.visualize(bands=['B4', 'B3', 'B2'],                                 \n",
    "             min=[statDict['B4_min'],statDict['B3_min'],statDict['B2_min']],\n",
    "             max=[statDict['B4_max'],statDict['B3_max'],statDict['B2_max']],\n",
    "             gamma=1)\n",
    "        \n",
    "        # Export multi-band GeoTIFF file.\n",
    "        url = prettyImg.getDownloadUrl({\n",
    "            #'bands': ['B4', 'B3', 'B2'],\n",
    "            'region': storage_geometry,\n",
    "            #'scale': 10,\n",
    "            'format': 'GEO_TIFF'\n",
    "        })            \n",
    "        response = requests.get(url)\n",
    "        with open(filename, 'wb') as fd:                \n",
    "          fd.write(response.content)\n",
    "    except:\n",
    "        print('Export failed')\n",
    "\n",
    "    return\n",
    "\n",
    "def exportMap(worksNumber):\n",
    "    # Select the feature\n",
    "    storage_selection = storage_collection.filter(ee.Filter.eq(\"Wks_Num_tx\", worksNumber))   \n",
    "    # Get the geometry\n",
    "    storage_geometry = storage_selection.geometry()\n",
    "    storage_geometry = storage_geometry.buffer(distance=500)\n",
    "    storage_geometry = storage_geometry.bounds()\n",
    "    # Get the latest image\n",
    "    s2 = ee.ImageCollection(\"COPERNICUS/S2_SR\").filterBounds(storage_geometry).select(['B2','B3','B4'])\n",
    "    # Filter images by cloud cover\n",
    "    s2 = s2.filter(ee.Filter.lt('CLOUDY_PIXEL_PERCENTAGE', 1))\n",
    "    # Get the latest image\n",
    "    imageSize = s2.size().getInfo()    \n",
    "    imageList = s2.toList(s2.size())\n",
    "    # Choose the image\n",
    "    image = ee.Image(imageList.get(imageSize-1))        \n",
    "    # Create a RGB image for export\n",
    "    stats = image.reduceRegion(reducer=ee.Reducer.minMax(),geometry=storage_geometry,scale=100,bestEffort=True)\n",
    "    statDict = stats.getInfo()\n",
    "    try: \n",
    "        prettyImg = image.visualize(bands=['B4', 'B3', 'B2'],                                 \n",
    "             min=[statDict['B4_min'],statDict['B3_min'],statDict['B2_min']],\n",
    "             max=[statDict['B4_max'],statDict['B3_max'],statDict['B2_max']],\n",
    "             gamma=1)\n",
    "        \n",
    "        # Add to map\n",
    "        Map = geemap.Map()\n",
    "        Map.centerObject(prettyImg, zoom=8)\n",
    "        Map.addLayer(prettyImg, {}, \"Sentinel 2\")\n",
    "        ee_object = geemap.geojson_to_ee(storage_selection)\n",
    "        Map.addLayer(ee_object, {}, 'Storage')\n",
    "        Map.to_image(filename=filename, monitor=1)\n",
    "                     \n",
    "    except:\n",
    "        print('Export failed')\n",
    "\n",
    "    return"
   ]
  },
  {
   "cell_type": "markdown",
   "metadata": {},
   "source": [
    "### Authenticate Earth Engine"
   ]
  },
  {
   "cell_type": "code",
   "execution_count": 51,
   "metadata": {},
   "outputs": [
    {
     "name": "stdout",
     "output_type": "stream",
     "text": [
      "Authentication active\n"
     ]
    }
   ],
   "source": [
    "# Test access then authenticate if fails\n",
    "try:\n",
    "    test_api()\n",
    "except:    \n",
    "    ee.Authenticate()\n",
    " \n",
    "# Initialize the library.\n",
    "ee.Initialize()"
   ]
  },
  {
   "cell_type": "markdown",
   "metadata": {},
   "source": [
    "### Convert shapefile into feature collection"
   ]
  },
  {
   "cell_type": "code",
   "execution_count": 52,
   "metadata": {},
   "outputs": [
    {
     "data": {
      "text/plain": [
       "<ee.featurecollection.FeatureCollection at 0x1c73276d490>"
      ]
     },
     "execution_count": 52,
     "metadata": {},
     "output_type": "execute_result"
    }
   ],
   "source": [
    "# Load shapefile into geopandas\n",
    "storage_shapes = gpd.read_file(storage_shapefile)\n",
    "\n",
    "# Convert shapes into json\n",
    "json_storages = json.loads(storage_shapes.to_json())\n",
    "\n",
    "# Convert json into feature collection\n",
    "storage_collection =  ee.FeatureCollection(json_storages)\n",
    "\n",
    "# Reproject collection\n",
    "storage_collection = storage_collection.map(transformer);\n",
    "\n",
    "# Add area\n",
    "storage_collection.map(lambda feature: feature.set('total_area', ee.Number(feature.area()).divide(1e6).round()))"
   ]
  },
  {
   "cell_type": "markdown",
   "metadata": {},
   "source": [
    "### Get a list of Storage IDs"
   ]
  },
  {
   "cell_type": "code",
   "execution_count": 53,
   "metadata": {},
   "outputs": [
    {
     "name": "stdout",
     "output_type": "stream",
     "text": [
      "['14688', '14916', '14923', '17563', '17879', '17883', '17890', '18215', '19819', '19823', '19830', '19883', '19921', '19939', '19941', '19967', '19974', '19978', '20553', '20554', '20559', '20560', '20627', '20657', '20658', '20662', '20664', '20665', '20668', '20669', '21462', '21515', '21516', '21517', '21518', '21519', '21520', '21521', '21549', '21557', '21559', '21562', '21564', '21565', '21566', '21572', '21577', '21624', '21626', '21631', '21634', '21635', '21636', '21649', '21650', '21656', '21717', '21719', '23743', '23744', '23745', '24064', '24080', '24082', '24084', '24085', '24090', '24091', '24673', '24674', '24675', '24676', '24677', '24685', '24686', '24689', '24690', '24752', '24753', '24761', '24762', '24765', '24780', '24781', '24782', '24977', '24978', '24985', '24998', '25000', '25004', '25010', '25023', '25025', '25027', '25028', '25031', '25034', '25041', '25047', '25058', '25071', '25093', '25103', '25104', '25105', '25106', '25108', '25110', '25111', '25112', '25113', '25114', '28155', '28156', '28157', '28652', '28653', '28654', '28655', '28656', '28862', '28867', '28873', '28877', '30197', '30204', '30206', '30207', '30210', '30216', '30223', '30226', '30227', '30228', '30231', '30234', '30236', '30237', '30241', '30245_1', '30245_2', '30407', '30422', '31316', '31322', '31324', '31346', '31571', '31572', '31576']\n"
     ]
    }
   ],
   "source": [
    "# list the unique quality code values\n",
    "worksSet = sorted(storage_shapes[storage_id_field].unique())\n",
    "print(worksSet)"
   ]
  },
  {
   "cell_type": "markdown",
   "metadata": {},
   "source": [
    "### Clip imagery to each storage"
   ]
  },
  {
   "cell_type": "code",
   "execution_count": 11,
   "metadata": {},
   "outputs": [
    {
     "name": "stdout",
     "output_type": "stream",
     "text": [
      "Starting at 2022-09-19 12:21:19.611838\n",
      "Skipping: output\\14688.png\n",
      "Skipping: output\\14916.png\n",
      "Skipping: output\\14923.png\n",
      "Exporting: output\\17563.png\n",
      "Skipping: output\\17879.png\n",
      "Skipping: output\\17883.png\n",
      "Skipping: output\\17890.png\n",
      "Skipping: output\\18215.png\n",
      "Skipping: output\\19819.png\n",
      "Exporting: output\\19823.png\n"
     ]
    },
    {
     "ename": "KeyboardInterrupt",
     "evalue": "",
     "output_type": "error",
     "traceback": [
      "\u001b[1;31m---------------------------------------------------------------------------\u001b[0m",
      "\u001b[1;31mKeyboardInterrupt\u001b[0m                         Traceback (most recent call last)",
      "\u001b[1;32m<ipython-input-11-084bee123800>\u001b[0m in \u001b[0;36m<module>\u001b[1;34m\u001b[0m\n\u001b[0;32m     20\u001b[0m \u001b[1;33m\u001b[0m\u001b[0m\n\u001b[0;32m     21\u001b[0m         \u001b[1;31m# Create an image function to map\u001b[0m\u001b[1;33m\u001b[0m\u001b[1;33m\u001b[0m\u001b[1;33m\u001b[0m\u001b[0m\n\u001b[1;32m---> 22\u001b[1;33m         \u001b[0mexportRGBImage\u001b[0m\u001b[1;33m(\u001b[0m\u001b[0mworksNumber\u001b[0m\u001b[1;33m)\u001b[0m\u001b[1;33m\u001b[0m\u001b[1;33m\u001b[0m\u001b[0m\n\u001b[0m\u001b[0;32m     23\u001b[0m \u001b[1;33m\u001b[0m\u001b[0m\n\u001b[0;32m     24\u001b[0m \u001b[1;31m# Print the storage stats\u001b[0m\u001b[1;33m\u001b[0m\u001b[1;33m\u001b[0m\u001b[1;33m\u001b[0m\u001b[0m\n",
      "\u001b[1;32m<ipython-input-9-f33dd1ec034f>\u001b[0m in \u001b[0;36mexportRGBImage\u001b[1;34m(worksNumber)\u001b[0m\n\u001b[0;32m    257\u001b[0m     \u001b[1;31m# Create a RGB image for export\u001b[0m\u001b[1;33m\u001b[0m\u001b[1;33m\u001b[0m\u001b[1;33m\u001b[0m\u001b[0m\n\u001b[0;32m    258\u001b[0m     \u001b[0mstats\u001b[0m \u001b[1;33m=\u001b[0m \u001b[0mimage\u001b[0m\u001b[1;33m.\u001b[0m\u001b[0mreduceRegion\u001b[0m\u001b[1;33m(\u001b[0m\u001b[0mreducer\u001b[0m\u001b[1;33m=\u001b[0m\u001b[0mee\u001b[0m\u001b[1;33m.\u001b[0m\u001b[0mReducer\u001b[0m\u001b[1;33m.\u001b[0m\u001b[0mminMax\u001b[0m\u001b[1;33m(\u001b[0m\u001b[1;33m)\u001b[0m\u001b[1;33m,\u001b[0m\u001b[0mgeometry\u001b[0m\u001b[1;33m=\u001b[0m\u001b[0mstorage_geometry\u001b[0m\u001b[1;33m,\u001b[0m\u001b[0mscale\u001b[0m\u001b[1;33m=\u001b[0m\u001b[1;36m100\u001b[0m\u001b[1;33m,\u001b[0m\u001b[0mbestEffort\u001b[0m\u001b[1;33m=\u001b[0m\u001b[1;32mTrue\u001b[0m\u001b[1;33m)\u001b[0m\u001b[1;33m\u001b[0m\u001b[1;33m\u001b[0m\u001b[0m\n\u001b[1;32m--> 259\u001b[1;33m     \u001b[0mstatDict\u001b[0m \u001b[1;33m=\u001b[0m \u001b[0mstats\u001b[0m\u001b[1;33m.\u001b[0m\u001b[0mgetInfo\u001b[0m\u001b[1;33m(\u001b[0m\u001b[1;33m)\u001b[0m\u001b[1;33m\u001b[0m\u001b[1;33m\u001b[0m\u001b[0m\n\u001b[0m\u001b[0;32m    260\u001b[0m     \u001b[1;32mtry\u001b[0m\u001b[1;33m:\u001b[0m\u001b[1;33m\u001b[0m\u001b[1;33m\u001b[0m\u001b[0m\n\u001b[0;32m    261\u001b[0m         prettyImg = image.visualize(bands=['B4', 'B3', 'B2'],                                 \n",
      "\u001b[1;32mC:\\Anaconda\\lib\\site-packages\\ee\\computedobject.py\u001b[0m in \u001b[0;36mgetInfo\u001b[1;34m(self)\u001b[0m\n\u001b[0;32m     96\u001b[0m       \u001b[0mThe\u001b[0m \u001b[0mobject\u001b[0m \u001b[0mcan\u001b[0m \u001b[0mevaluate\u001b[0m \u001b[0mto\u001b[0m \u001b[0manything\u001b[0m\u001b[1;33m.\u001b[0m\u001b[1;33m\u001b[0m\u001b[1;33m\u001b[0m\u001b[0m\n\u001b[0;32m     97\u001b[0m     \"\"\"\n\u001b[1;32m---> 98\u001b[1;33m     \u001b[1;32mreturn\u001b[0m \u001b[0mdata\u001b[0m\u001b[1;33m.\u001b[0m\u001b[0mcomputeValue\u001b[0m\u001b[1;33m(\u001b[0m\u001b[0mself\u001b[0m\u001b[1;33m)\u001b[0m\u001b[1;33m\u001b[0m\u001b[1;33m\u001b[0m\u001b[0m\n\u001b[0m\u001b[0;32m     99\u001b[0m \u001b[1;33m\u001b[0m\u001b[0m\n\u001b[0;32m    100\u001b[0m   \u001b[1;32mdef\u001b[0m \u001b[0mencode\u001b[0m\u001b[1;33m(\u001b[0m\u001b[0mself\u001b[0m\u001b[1;33m,\u001b[0m \u001b[0mencoder\u001b[0m\u001b[1;33m)\u001b[0m\u001b[1;33m:\u001b[0m\u001b[1;33m\u001b[0m\u001b[1;33m\u001b[0m\u001b[0m\n",
      "\u001b[1;32mC:\\Anaconda\\lib\\site-packages\\ee\\data.py\u001b[0m in \u001b[0;36mcomputeValue\u001b[1;34m(obj)\u001b[0m\n\u001b[0;32m    736\u001b[0m     \u001b[0mbody\u001b[0m\u001b[1;33m[\u001b[0m\u001b[1;34m'workloadTag'\u001b[0m\u001b[1;33m]\u001b[0m \u001b[1;33m=\u001b[0m \u001b[0mworkload_tag\u001b[0m\u001b[1;33m\u001b[0m\u001b[1;33m\u001b[0m\u001b[0m\n\u001b[0;32m    737\u001b[0m \u001b[1;33m\u001b[0m\u001b[0m\n\u001b[1;32m--> 738\u001b[1;33m   return _execute_cloud_call(\n\u001b[0m\u001b[0;32m    739\u001b[0m       _get_cloud_api_resource().projects().value().compute(\n\u001b[0;32m    740\u001b[0m           \u001b[0mbody\u001b[0m\u001b[1;33m=\u001b[0m\u001b[0mbody\u001b[0m\u001b[1;33m,\u001b[0m\u001b[1;33m\u001b[0m\u001b[1;33m\u001b[0m\u001b[0m\n",
      "\u001b[1;32mC:\\Anaconda\\lib\\site-packages\\ee\\data.py\u001b[0m in \u001b[0;36m_execute_cloud_call\u001b[1;34m(call, num_retries)\u001b[0m\n\u001b[0;32m    326\u001b[0m   \"\"\"\n\u001b[0;32m    327\u001b[0m   \u001b[1;32mtry\u001b[0m\u001b[1;33m:\u001b[0m\u001b[1;33m\u001b[0m\u001b[1;33m\u001b[0m\u001b[0m\n\u001b[1;32m--> 328\u001b[1;33m     \u001b[1;32mreturn\u001b[0m \u001b[0mcall\u001b[0m\u001b[1;33m.\u001b[0m\u001b[0mexecute\u001b[0m\u001b[1;33m(\u001b[0m\u001b[0mnum_retries\u001b[0m\u001b[1;33m=\u001b[0m\u001b[0mnum_retries\u001b[0m\u001b[1;33m)\u001b[0m\u001b[1;33m\u001b[0m\u001b[1;33m\u001b[0m\u001b[0m\n\u001b[0m\u001b[0;32m    329\u001b[0m   \u001b[1;32mexcept\u001b[0m \u001b[0mgoogleapiclient\u001b[0m\u001b[1;33m.\u001b[0m\u001b[0merrors\u001b[0m\u001b[1;33m.\u001b[0m\u001b[0mHttpError\u001b[0m \u001b[1;32mas\u001b[0m \u001b[0me\u001b[0m\u001b[1;33m:\u001b[0m\u001b[1;33m\u001b[0m\u001b[1;33m\u001b[0m\u001b[0m\n\u001b[0;32m    330\u001b[0m     \u001b[1;32mraise\u001b[0m \u001b[0m_translate_cloud_exception\u001b[0m\u001b[1;33m(\u001b[0m\u001b[0me\u001b[0m\u001b[1;33m)\u001b[0m\u001b[1;33m\u001b[0m\u001b[1;33m\u001b[0m\u001b[0m\n",
      "\u001b[1;32mC:\\Anaconda\\lib\\site-packages\\googleapiclient\\_helpers.py\u001b[0m in \u001b[0;36mpositional_wrapper\u001b[1;34m(*args, **kwargs)\u001b[0m\n\u001b[0;32m    132\u001b[0m                 \u001b[1;32melif\u001b[0m \u001b[0mpositional_parameters_enforcement\u001b[0m \u001b[1;33m==\u001b[0m \u001b[0mPOSITIONAL_WARNING\u001b[0m\u001b[1;33m:\u001b[0m\u001b[1;33m\u001b[0m\u001b[1;33m\u001b[0m\u001b[0m\n\u001b[0;32m    133\u001b[0m                     \u001b[0mlogger\u001b[0m\u001b[1;33m.\u001b[0m\u001b[0mwarning\u001b[0m\u001b[1;33m(\u001b[0m\u001b[0mmessage\u001b[0m\u001b[1;33m)\u001b[0m\u001b[1;33m\u001b[0m\u001b[1;33m\u001b[0m\u001b[0m\n\u001b[1;32m--> 134\u001b[1;33m             \u001b[1;32mreturn\u001b[0m \u001b[0mwrapped\u001b[0m\u001b[1;33m(\u001b[0m\u001b[1;33m*\u001b[0m\u001b[0margs\u001b[0m\u001b[1;33m,\u001b[0m \u001b[1;33m**\u001b[0m\u001b[0mkwargs\u001b[0m\u001b[1;33m)\u001b[0m\u001b[1;33m\u001b[0m\u001b[1;33m\u001b[0m\u001b[0m\n\u001b[0m\u001b[0;32m    135\u001b[0m \u001b[1;33m\u001b[0m\u001b[0m\n\u001b[0;32m    136\u001b[0m         \u001b[1;32mreturn\u001b[0m \u001b[0mpositional_wrapper\u001b[0m\u001b[1;33m\u001b[0m\u001b[1;33m\u001b[0m\u001b[0m\n",
      "\u001b[1;32mC:\\Anaconda\\lib\\site-packages\\googleapiclient\\http.py\u001b[0m in \u001b[0;36mexecute\u001b[1;34m(self, http, num_retries)\u001b[0m\n\u001b[0;32m    898\u001b[0m \u001b[1;33m\u001b[0m\u001b[0m\n\u001b[0;32m    899\u001b[0m         \u001b[1;31m# Handle retries for server-side errors.\u001b[0m\u001b[1;33m\u001b[0m\u001b[1;33m\u001b[0m\u001b[1;33m\u001b[0m\u001b[0m\n\u001b[1;32m--> 900\u001b[1;33m         resp, content = _retry_request(\n\u001b[0m\u001b[0;32m    901\u001b[0m             \u001b[0mhttp\u001b[0m\u001b[1;33m,\u001b[0m\u001b[1;33m\u001b[0m\u001b[1;33m\u001b[0m\u001b[0m\n\u001b[0;32m    902\u001b[0m             \u001b[0mnum_retries\u001b[0m\u001b[1;33m,\u001b[0m\u001b[1;33m\u001b[0m\u001b[1;33m\u001b[0m\u001b[0m\n",
      "\u001b[1;32mC:\\Anaconda\\lib\\site-packages\\googleapiclient\\http.py\u001b[0m in \u001b[0;36m_retry_request\u001b[1;34m(http, num_retries, req_type, sleep, rand, uri, method, *args, **kwargs)\u001b[0m\n\u001b[0;32m    175\u001b[0m         \u001b[1;32mtry\u001b[0m\u001b[1;33m:\u001b[0m\u001b[1;33m\u001b[0m\u001b[1;33m\u001b[0m\u001b[0m\n\u001b[0;32m    176\u001b[0m             \u001b[0mexception\u001b[0m \u001b[1;33m=\u001b[0m \u001b[1;32mNone\u001b[0m\u001b[1;33m\u001b[0m\u001b[1;33m\u001b[0m\u001b[0m\n\u001b[1;32m--> 177\u001b[1;33m             \u001b[0mresp\u001b[0m\u001b[1;33m,\u001b[0m \u001b[0mcontent\u001b[0m \u001b[1;33m=\u001b[0m \u001b[0mhttp\u001b[0m\u001b[1;33m.\u001b[0m\u001b[0mrequest\u001b[0m\u001b[1;33m(\u001b[0m\u001b[0muri\u001b[0m\u001b[1;33m,\u001b[0m \u001b[0mmethod\u001b[0m\u001b[1;33m,\u001b[0m \u001b[1;33m*\u001b[0m\u001b[0margs\u001b[0m\u001b[1;33m,\u001b[0m \u001b[1;33m**\u001b[0m\u001b[0mkwargs\u001b[0m\u001b[1;33m)\u001b[0m\u001b[1;33m\u001b[0m\u001b[1;33m\u001b[0m\u001b[0m\n\u001b[0m\u001b[0;32m    178\u001b[0m         \u001b[1;31m# Retry on SSL errors and socket timeout errors.\u001b[0m\u001b[1;33m\u001b[0m\u001b[1;33m\u001b[0m\u001b[1;33m\u001b[0m\u001b[0m\n\u001b[0;32m    179\u001b[0m         \u001b[1;32mexcept\u001b[0m \u001b[0m_ssl_SSLError\u001b[0m \u001b[1;32mas\u001b[0m \u001b[0mssl_error\u001b[0m\u001b[1;33m:\u001b[0m\u001b[1;33m\u001b[0m\u001b[1;33m\u001b[0m\u001b[0m\n",
      "\u001b[1;32mC:\\Anaconda\\lib\\site-packages\\google_auth_httplib2.py\u001b[0m in \u001b[0;36mrequest\u001b[1;34m(self, uri, method, body, headers, redirections, connection_type, **kwargs)\u001b[0m\n\u001b[0;32m    216\u001b[0m \u001b[1;33m\u001b[0m\u001b[0m\n\u001b[0;32m    217\u001b[0m         \u001b[1;31m# Make the request.\u001b[0m\u001b[1;33m\u001b[0m\u001b[1;33m\u001b[0m\u001b[1;33m\u001b[0m\u001b[0m\n\u001b[1;32m--> 218\u001b[1;33m         response, content = self.http.request(\n\u001b[0m\u001b[0;32m    219\u001b[0m             \u001b[0muri\u001b[0m\u001b[1;33m,\u001b[0m\u001b[1;33m\u001b[0m\u001b[1;33m\u001b[0m\u001b[0m\n\u001b[0;32m    220\u001b[0m             \u001b[0mmethod\u001b[0m\u001b[1;33m,\u001b[0m\u001b[1;33m\u001b[0m\u001b[1;33m\u001b[0m\u001b[0m\n",
      "\u001b[1;32mC:\\Anaconda\\lib\\site-packages\\httplib2\\__init__.py\u001b[0m in \u001b[0;36mrequest\u001b[1;34m(self, uri, method, body, headers, redirections, connection_type)\u001b[0m\n\u001b[0;32m   1699\u001b[0m                     \u001b[0mcontent\u001b[0m \u001b[1;33m=\u001b[0m \u001b[1;34mb\"\"\u001b[0m\u001b[1;33m\u001b[0m\u001b[1;33m\u001b[0m\u001b[0m\n\u001b[0;32m   1700\u001b[0m                 \u001b[1;32melse\u001b[0m\u001b[1;33m:\u001b[0m\u001b[1;33m\u001b[0m\u001b[1;33m\u001b[0m\u001b[0m\n\u001b[1;32m-> 1701\u001b[1;33m                     (response, content) = self._request(\n\u001b[0m\u001b[0;32m   1702\u001b[0m                         \u001b[0mconn\u001b[0m\u001b[1;33m,\u001b[0m \u001b[0mauthority\u001b[0m\u001b[1;33m,\u001b[0m \u001b[0muri\u001b[0m\u001b[1;33m,\u001b[0m \u001b[0mrequest_uri\u001b[0m\u001b[1;33m,\u001b[0m \u001b[0mmethod\u001b[0m\u001b[1;33m,\u001b[0m \u001b[0mbody\u001b[0m\u001b[1;33m,\u001b[0m \u001b[0mheaders\u001b[0m\u001b[1;33m,\u001b[0m \u001b[0mredirections\u001b[0m\u001b[1;33m,\u001b[0m \u001b[0mcachekey\u001b[0m\u001b[1;33m,\u001b[0m\u001b[1;33m\u001b[0m\u001b[1;33m\u001b[0m\u001b[0m\n\u001b[0;32m   1703\u001b[0m                     )\n",
      "\u001b[1;32mC:\\Anaconda\\lib\\site-packages\\httplib2\\__init__.py\u001b[0m in \u001b[0;36m_request\u001b[1;34m(self, conn, host, absolute_uri, request_uri, method, body, headers, redirections, cachekey)\u001b[0m\n\u001b[0;32m   1419\u001b[0m             \u001b[0mauth\u001b[0m\u001b[1;33m.\u001b[0m\u001b[0mrequest\u001b[0m\u001b[1;33m(\u001b[0m\u001b[0mmethod\u001b[0m\u001b[1;33m,\u001b[0m \u001b[0mrequest_uri\u001b[0m\u001b[1;33m,\u001b[0m \u001b[0mheaders\u001b[0m\u001b[1;33m,\u001b[0m \u001b[0mbody\u001b[0m\u001b[1;33m)\u001b[0m\u001b[1;33m\u001b[0m\u001b[1;33m\u001b[0m\u001b[0m\n\u001b[0;32m   1420\u001b[0m \u001b[1;33m\u001b[0m\u001b[0m\n\u001b[1;32m-> 1421\u001b[1;33m         \u001b[1;33m(\u001b[0m\u001b[0mresponse\u001b[0m\u001b[1;33m,\u001b[0m \u001b[0mcontent\u001b[0m\u001b[1;33m)\u001b[0m \u001b[1;33m=\u001b[0m \u001b[0mself\u001b[0m\u001b[1;33m.\u001b[0m\u001b[0m_conn_request\u001b[0m\u001b[1;33m(\u001b[0m\u001b[0mconn\u001b[0m\u001b[1;33m,\u001b[0m \u001b[0mrequest_uri\u001b[0m\u001b[1;33m,\u001b[0m \u001b[0mmethod\u001b[0m\u001b[1;33m,\u001b[0m \u001b[0mbody\u001b[0m\u001b[1;33m,\u001b[0m \u001b[0mheaders\u001b[0m\u001b[1;33m)\u001b[0m\u001b[1;33m\u001b[0m\u001b[1;33m\u001b[0m\u001b[0m\n\u001b[0m\u001b[0;32m   1422\u001b[0m \u001b[1;33m\u001b[0m\u001b[0m\n\u001b[0;32m   1423\u001b[0m         \u001b[1;32mif\u001b[0m \u001b[0mauth\u001b[0m\u001b[1;33m:\u001b[0m\u001b[1;33m\u001b[0m\u001b[1;33m\u001b[0m\u001b[0m\n",
      "\u001b[1;32mC:\\Anaconda\\lib\\site-packages\\httplib2shim\\__init__.py\u001b[0m in \u001b[0;36m_conn_request\u001b[1;34m(self, conn, request_uri, method, body, headers)\u001b[0m\n\u001b[0;32m    138\u001b[0m \u001b[1;33m\u001b[0m\u001b[0m\n\u001b[0;32m    139\u001b[0m         \u001b[1;32mtry\u001b[0m\u001b[1;33m:\u001b[0m\u001b[1;33m\u001b[0m\u001b[1;33m\u001b[0m\u001b[0m\n\u001b[1;32m--> 140\u001b[1;33m             urllib3_response = self.pool.request(\n\u001b[0m\u001b[0;32m    141\u001b[0m                 \u001b[0mmethod\u001b[0m\u001b[1;33m,\u001b[0m\u001b[1;33m\u001b[0m\u001b[1;33m\u001b[0m\u001b[0m\n\u001b[0;32m    142\u001b[0m                 \u001b[0mfull_uri\u001b[0m\u001b[1;33m,\u001b[0m\u001b[1;33m\u001b[0m\u001b[1;33m\u001b[0m\u001b[0m\n",
      "\u001b[1;32mC:\\Anaconda\\lib\\site-packages\\urllib3\\request.py\u001b[0m in \u001b[0;36mrequest\u001b[1;34m(self, method, url, fields, headers, **urlopen_kw)\u001b[0m\n\u001b[0;32m     77\u001b[0m             )\n\u001b[0;32m     78\u001b[0m         \u001b[1;32melse\u001b[0m\u001b[1;33m:\u001b[0m\u001b[1;33m\u001b[0m\u001b[1;33m\u001b[0m\u001b[0m\n\u001b[1;32m---> 79\u001b[1;33m             return self.request_encode_body(\n\u001b[0m\u001b[0;32m     80\u001b[0m                 \u001b[0mmethod\u001b[0m\u001b[1;33m,\u001b[0m \u001b[0murl\u001b[0m\u001b[1;33m,\u001b[0m \u001b[0mfields\u001b[0m\u001b[1;33m=\u001b[0m\u001b[0mfields\u001b[0m\u001b[1;33m,\u001b[0m \u001b[0mheaders\u001b[0m\u001b[1;33m=\u001b[0m\u001b[0mheaders\u001b[0m\u001b[1;33m,\u001b[0m \u001b[1;33m**\u001b[0m\u001b[0murlopen_kw\u001b[0m\u001b[1;33m\u001b[0m\u001b[1;33m\u001b[0m\u001b[0m\n\u001b[0;32m     81\u001b[0m             )\n",
      "\u001b[1;32mC:\\Anaconda\\lib\\site-packages\\urllib3\\request.py\u001b[0m in \u001b[0;36mrequest_encode_body\u001b[1;34m(self, method, url, fields, headers, encode_multipart, multipart_boundary, **urlopen_kw)\u001b[0m\n\u001b[0;32m    169\u001b[0m         \u001b[0mextra_kw\u001b[0m\u001b[1;33m.\u001b[0m\u001b[0mupdate\u001b[0m\u001b[1;33m(\u001b[0m\u001b[0murlopen_kw\u001b[0m\u001b[1;33m)\u001b[0m\u001b[1;33m\u001b[0m\u001b[1;33m\u001b[0m\u001b[0m\n\u001b[0;32m    170\u001b[0m \u001b[1;33m\u001b[0m\u001b[0m\n\u001b[1;32m--> 171\u001b[1;33m         \u001b[1;32mreturn\u001b[0m \u001b[0mself\u001b[0m\u001b[1;33m.\u001b[0m\u001b[0murlopen\u001b[0m\u001b[1;33m(\u001b[0m\u001b[0mmethod\u001b[0m\u001b[1;33m,\u001b[0m \u001b[0murl\u001b[0m\u001b[1;33m,\u001b[0m \u001b[1;33m**\u001b[0m\u001b[0mextra_kw\u001b[0m\u001b[1;33m)\u001b[0m\u001b[1;33m\u001b[0m\u001b[1;33m\u001b[0m\u001b[0m\n\u001b[0m",
      "\u001b[1;32mC:\\Anaconda\\lib\\site-packages\\urllib3\\poolmanager.py\u001b[0m in \u001b[0;36murlopen\u001b[1;34m(self, method, url, redirect, **kw)\u001b[0m\n\u001b[0;32m    486\u001b[0m             \u001b[0mkw\u001b[0m\u001b[1;33m[\u001b[0m\u001b[1;34m\"headers\"\u001b[0m\u001b[1;33m]\u001b[0m \u001b[1;33m=\u001b[0m \u001b[0mself\u001b[0m\u001b[1;33m.\u001b[0m\u001b[0m_set_proxy_headers\u001b[0m\u001b[1;33m(\u001b[0m\u001b[0murl\u001b[0m\u001b[1;33m,\u001b[0m \u001b[0mheaders\u001b[0m\u001b[1;33m)\u001b[0m\u001b[1;33m\u001b[0m\u001b[1;33m\u001b[0m\u001b[0m\n\u001b[0;32m    487\u001b[0m \u001b[1;33m\u001b[0m\u001b[0m\n\u001b[1;32m--> 488\u001b[1;33m         \u001b[1;32mreturn\u001b[0m \u001b[0msuper\u001b[0m\u001b[1;33m(\u001b[0m\u001b[0mProxyManager\u001b[0m\u001b[1;33m,\u001b[0m \u001b[0mself\u001b[0m\u001b[1;33m)\u001b[0m\u001b[1;33m.\u001b[0m\u001b[0murlopen\u001b[0m\u001b[1;33m(\u001b[0m\u001b[0mmethod\u001b[0m\u001b[1;33m,\u001b[0m \u001b[0murl\u001b[0m\u001b[1;33m,\u001b[0m \u001b[0mredirect\u001b[0m\u001b[1;33m=\u001b[0m\u001b[0mredirect\u001b[0m\u001b[1;33m,\u001b[0m \u001b[1;33m**\u001b[0m\u001b[0mkw\u001b[0m\u001b[1;33m)\u001b[0m\u001b[1;33m\u001b[0m\u001b[1;33m\u001b[0m\u001b[0m\n\u001b[0m\u001b[0;32m    489\u001b[0m \u001b[1;33m\u001b[0m\u001b[0m\n\u001b[0;32m    490\u001b[0m \u001b[1;33m\u001b[0m\u001b[0m\n",
      "\u001b[1;32mC:\\Anaconda\\lib\\site-packages\\urllib3\\poolmanager.py\u001b[0m in \u001b[0;36murlopen\u001b[1;34m(self, method, url, redirect, **kw)\u001b[0m\n\u001b[0;32m    334\u001b[0m             \u001b[0mresponse\u001b[0m \u001b[1;33m=\u001b[0m \u001b[0mconn\u001b[0m\u001b[1;33m.\u001b[0m\u001b[0murlopen\u001b[0m\u001b[1;33m(\u001b[0m\u001b[0mmethod\u001b[0m\u001b[1;33m,\u001b[0m \u001b[0murl\u001b[0m\u001b[1;33m,\u001b[0m \u001b[1;33m**\u001b[0m\u001b[0mkw\u001b[0m\u001b[1;33m)\u001b[0m\u001b[1;33m\u001b[0m\u001b[1;33m\u001b[0m\u001b[0m\n\u001b[0;32m    335\u001b[0m         \u001b[1;32melse\u001b[0m\u001b[1;33m:\u001b[0m\u001b[1;33m\u001b[0m\u001b[1;33m\u001b[0m\u001b[0m\n\u001b[1;32m--> 336\u001b[1;33m             \u001b[0mresponse\u001b[0m \u001b[1;33m=\u001b[0m \u001b[0mconn\u001b[0m\u001b[1;33m.\u001b[0m\u001b[0murlopen\u001b[0m\u001b[1;33m(\u001b[0m\u001b[0mmethod\u001b[0m\u001b[1;33m,\u001b[0m \u001b[0mu\u001b[0m\u001b[1;33m.\u001b[0m\u001b[0mrequest_uri\u001b[0m\u001b[1;33m,\u001b[0m \u001b[1;33m**\u001b[0m\u001b[0mkw\u001b[0m\u001b[1;33m)\u001b[0m\u001b[1;33m\u001b[0m\u001b[1;33m\u001b[0m\u001b[0m\n\u001b[0m\u001b[0;32m    337\u001b[0m \u001b[1;33m\u001b[0m\u001b[0m\n\u001b[0;32m    338\u001b[0m         \u001b[0mredirect_location\u001b[0m \u001b[1;33m=\u001b[0m \u001b[0mredirect\u001b[0m \u001b[1;32mand\u001b[0m \u001b[0mresponse\u001b[0m\u001b[1;33m.\u001b[0m\u001b[0mget_redirect_location\u001b[0m\u001b[1;33m(\u001b[0m\u001b[1;33m)\u001b[0m\u001b[1;33m\u001b[0m\u001b[1;33m\u001b[0m\u001b[0m\n",
      "\u001b[1;32mC:\\Anaconda\\lib\\site-packages\\urllib3\\connectionpool.py\u001b[0m in \u001b[0;36murlopen\u001b[1;34m(self, method, url, body, headers, retries, redirect, assert_same_host, timeout, pool_timeout, release_conn, chunked, body_pos, **response_kw)\u001b[0m\n\u001b[0;32m    668\u001b[0m \u001b[1;33m\u001b[0m\u001b[0m\n\u001b[0;32m    669\u001b[0m             \u001b[1;31m# Make the request on the httplib connection object.\u001b[0m\u001b[1;33m\u001b[0m\u001b[1;33m\u001b[0m\u001b[1;33m\u001b[0m\u001b[0m\n\u001b[1;32m--> 670\u001b[1;33m             httplib_response = self._make_request(\n\u001b[0m\u001b[0;32m    671\u001b[0m                 \u001b[0mconn\u001b[0m\u001b[1;33m,\u001b[0m\u001b[1;33m\u001b[0m\u001b[1;33m\u001b[0m\u001b[0m\n\u001b[0;32m    672\u001b[0m                 \u001b[0mmethod\u001b[0m\u001b[1;33m,\u001b[0m\u001b[1;33m\u001b[0m\u001b[1;33m\u001b[0m\u001b[0m\n",
      "\u001b[1;32mC:\\Anaconda\\lib\\site-packages\\urllib3\\connectionpool.py\u001b[0m in \u001b[0;36m_make_request\u001b[1;34m(self, conn, method, url, timeout, chunked, **httplib_request_kw)\u001b[0m\n\u001b[0;32m    424\u001b[0m                     \u001b[1;31m# Python 3 (including for exceptions like SystemExit).\u001b[0m\u001b[1;33m\u001b[0m\u001b[1;33m\u001b[0m\u001b[1;33m\u001b[0m\u001b[0m\n\u001b[0;32m    425\u001b[0m                     \u001b[1;31m# Otherwise it looks like a bug in the code.\u001b[0m\u001b[1;33m\u001b[0m\u001b[1;33m\u001b[0m\u001b[1;33m\u001b[0m\u001b[0m\n\u001b[1;32m--> 426\u001b[1;33m                     \u001b[0msix\u001b[0m\u001b[1;33m.\u001b[0m\u001b[0mraise_from\u001b[0m\u001b[1;33m(\u001b[0m\u001b[0me\u001b[0m\u001b[1;33m,\u001b[0m \u001b[1;32mNone\u001b[0m\u001b[1;33m)\u001b[0m\u001b[1;33m\u001b[0m\u001b[1;33m\u001b[0m\u001b[0m\n\u001b[0m\u001b[0;32m    427\u001b[0m         \u001b[1;32mexcept\u001b[0m \u001b[1;33m(\u001b[0m\u001b[0mSocketTimeout\u001b[0m\u001b[1;33m,\u001b[0m \u001b[0mBaseSSLError\u001b[0m\u001b[1;33m,\u001b[0m \u001b[0mSocketError\u001b[0m\u001b[1;33m)\u001b[0m \u001b[1;32mas\u001b[0m \u001b[0me\u001b[0m\u001b[1;33m:\u001b[0m\u001b[1;33m\u001b[0m\u001b[1;33m\u001b[0m\u001b[0m\n\u001b[0;32m    428\u001b[0m             \u001b[0mself\u001b[0m\u001b[1;33m.\u001b[0m\u001b[0m_raise_timeout\u001b[0m\u001b[1;33m(\u001b[0m\u001b[0merr\u001b[0m\u001b[1;33m=\u001b[0m\u001b[0me\u001b[0m\u001b[1;33m,\u001b[0m \u001b[0murl\u001b[0m\u001b[1;33m=\u001b[0m\u001b[0murl\u001b[0m\u001b[1;33m,\u001b[0m \u001b[0mtimeout_value\u001b[0m\u001b[1;33m=\u001b[0m\u001b[0mread_timeout\u001b[0m\u001b[1;33m)\u001b[0m\u001b[1;33m\u001b[0m\u001b[1;33m\u001b[0m\u001b[0m\n",
      "\u001b[1;32mC:\\Anaconda\\lib\\site-packages\\urllib3\\packages\\six.py\u001b[0m in \u001b[0;36mraise_from\u001b[1;34m(value, from_value)\u001b[0m\n",
      "\u001b[1;32mC:\\Anaconda\\lib\\site-packages\\urllib3\\connectionpool.py\u001b[0m in \u001b[0;36m_make_request\u001b[1;34m(self, conn, method, url, timeout, chunked, **httplib_request_kw)\u001b[0m\n\u001b[0;32m    419\u001b[0m                 \u001b[1;31m# Python 3\u001b[0m\u001b[1;33m\u001b[0m\u001b[1;33m\u001b[0m\u001b[1;33m\u001b[0m\u001b[0m\n\u001b[0;32m    420\u001b[0m                 \u001b[1;32mtry\u001b[0m\u001b[1;33m:\u001b[0m\u001b[1;33m\u001b[0m\u001b[1;33m\u001b[0m\u001b[0m\n\u001b[1;32m--> 421\u001b[1;33m                     \u001b[0mhttplib_response\u001b[0m \u001b[1;33m=\u001b[0m \u001b[0mconn\u001b[0m\u001b[1;33m.\u001b[0m\u001b[0mgetresponse\u001b[0m\u001b[1;33m(\u001b[0m\u001b[1;33m)\u001b[0m\u001b[1;33m\u001b[0m\u001b[1;33m\u001b[0m\u001b[0m\n\u001b[0m\u001b[0;32m    422\u001b[0m                 \u001b[1;32mexcept\u001b[0m \u001b[0mBaseException\u001b[0m \u001b[1;32mas\u001b[0m \u001b[0me\u001b[0m\u001b[1;33m:\u001b[0m\u001b[1;33m\u001b[0m\u001b[1;33m\u001b[0m\u001b[0m\n\u001b[0;32m    423\u001b[0m                     \u001b[1;31m# Remove the TypeError from the exception chain in\u001b[0m\u001b[1;33m\u001b[0m\u001b[1;33m\u001b[0m\u001b[1;33m\u001b[0m\u001b[0m\n",
      "\u001b[1;32mC:\\Anaconda\\lib\\http\\client.py\u001b[0m in \u001b[0;36mgetresponse\u001b[1;34m(self)\u001b[0m\n\u001b[0;32m   1330\u001b[0m         \u001b[1;32mtry\u001b[0m\u001b[1;33m:\u001b[0m\u001b[1;33m\u001b[0m\u001b[1;33m\u001b[0m\u001b[0m\n\u001b[0;32m   1331\u001b[0m             \u001b[1;32mtry\u001b[0m\u001b[1;33m:\u001b[0m\u001b[1;33m\u001b[0m\u001b[1;33m\u001b[0m\u001b[0m\n\u001b[1;32m-> 1332\u001b[1;33m                 \u001b[0mresponse\u001b[0m\u001b[1;33m.\u001b[0m\u001b[0mbegin\u001b[0m\u001b[1;33m(\u001b[0m\u001b[1;33m)\u001b[0m\u001b[1;33m\u001b[0m\u001b[1;33m\u001b[0m\u001b[0m\n\u001b[0m\u001b[0;32m   1333\u001b[0m             \u001b[1;32mexcept\u001b[0m \u001b[0mConnectionError\u001b[0m\u001b[1;33m:\u001b[0m\u001b[1;33m\u001b[0m\u001b[1;33m\u001b[0m\u001b[0m\n\u001b[0;32m   1334\u001b[0m                 \u001b[0mself\u001b[0m\u001b[1;33m.\u001b[0m\u001b[0mclose\u001b[0m\u001b[1;33m(\u001b[0m\u001b[1;33m)\u001b[0m\u001b[1;33m\u001b[0m\u001b[1;33m\u001b[0m\u001b[0m\n",
      "\u001b[1;32mC:\\Anaconda\\lib\\http\\client.py\u001b[0m in \u001b[0;36mbegin\u001b[1;34m(self)\u001b[0m\n\u001b[0;32m    301\u001b[0m         \u001b[1;31m# read until we get a non-100 response\u001b[0m\u001b[1;33m\u001b[0m\u001b[1;33m\u001b[0m\u001b[1;33m\u001b[0m\u001b[0m\n\u001b[0;32m    302\u001b[0m         \u001b[1;32mwhile\u001b[0m \u001b[1;32mTrue\u001b[0m\u001b[1;33m:\u001b[0m\u001b[1;33m\u001b[0m\u001b[1;33m\u001b[0m\u001b[0m\n\u001b[1;32m--> 303\u001b[1;33m             \u001b[0mversion\u001b[0m\u001b[1;33m,\u001b[0m \u001b[0mstatus\u001b[0m\u001b[1;33m,\u001b[0m \u001b[0mreason\u001b[0m \u001b[1;33m=\u001b[0m \u001b[0mself\u001b[0m\u001b[1;33m.\u001b[0m\u001b[0m_read_status\u001b[0m\u001b[1;33m(\u001b[0m\u001b[1;33m)\u001b[0m\u001b[1;33m\u001b[0m\u001b[1;33m\u001b[0m\u001b[0m\n\u001b[0m\u001b[0;32m    304\u001b[0m             \u001b[1;32mif\u001b[0m \u001b[0mstatus\u001b[0m \u001b[1;33m!=\u001b[0m \u001b[0mCONTINUE\u001b[0m\u001b[1;33m:\u001b[0m\u001b[1;33m\u001b[0m\u001b[1;33m\u001b[0m\u001b[0m\n\u001b[0;32m    305\u001b[0m                 \u001b[1;32mbreak\u001b[0m\u001b[1;33m\u001b[0m\u001b[1;33m\u001b[0m\u001b[0m\n",
      "\u001b[1;32mC:\\Anaconda\\lib\\http\\client.py\u001b[0m in \u001b[0;36m_read_status\u001b[1;34m(self)\u001b[0m\n\u001b[0;32m    262\u001b[0m \u001b[1;33m\u001b[0m\u001b[0m\n\u001b[0;32m    263\u001b[0m     \u001b[1;32mdef\u001b[0m \u001b[0m_read_status\u001b[0m\u001b[1;33m(\u001b[0m\u001b[0mself\u001b[0m\u001b[1;33m)\u001b[0m\u001b[1;33m:\u001b[0m\u001b[1;33m\u001b[0m\u001b[1;33m\u001b[0m\u001b[0m\n\u001b[1;32m--> 264\u001b[1;33m         \u001b[0mline\u001b[0m \u001b[1;33m=\u001b[0m \u001b[0mstr\u001b[0m\u001b[1;33m(\u001b[0m\u001b[0mself\u001b[0m\u001b[1;33m.\u001b[0m\u001b[0mfp\u001b[0m\u001b[1;33m.\u001b[0m\u001b[0mreadline\u001b[0m\u001b[1;33m(\u001b[0m\u001b[0m_MAXLINE\u001b[0m \u001b[1;33m+\u001b[0m \u001b[1;36m1\u001b[0m\u001b[1;33m)\u001b[0m\u001b[1;33m,\u001b[0m \u001b[1;34m\"iso-8859-1\"\u001b[0m\u001b[1;33m)\u001b[0m\u001b[1;33m\u001b[0m\u001b[1;33m\u001b[0m\u001b[0m\n\u001b[0m\u001b[0;32m    265\u001b[0m         \u001b[1;32mif\u001b[0m \u001b[0mlen\u001b[0m\u001b[1;33m(\u001b[0m\u001b[0mline\u001b[0m\u001b[1;33m)\u001b[0m \u001b[1;33m>\u001b[0m \u001b[0m_MAXLINE\u001b[0m\u001b[1;33m:\u001b[0m\u001b[1;33m\u001b[0m\u001b[1;33m\u001b[0m\u001b[0m\n\u001b[0;32m    266\u001b[0m             \u001b[1;32mraise\u001b[0m \u001b[0mLineTooLong\u001b[0m\u001b[1;33m(\u001b[0m\u001b[1;34m\"status line\"\u001b[0m\u001b[1;33m)\u001b[0m\u001b[1;33m\u001b[0m\u001b[1;33m\u001b[0m\u001b[0m\n",
      "\u001b[1;32mC:\\Anaconda\\lib\\socket.py\u001b[0m in \u001b[0;36mreadinto\u001b[1;34m(self, b)\u001b[0m\n\u001b[0;32m    667\u001b[0m         \u001b[1;32mwhile\u001b[0m \u001b[1;32mTrue\u001b[0m\u001b[1;33m:\u001b[0m\u001b[1;33m\u001b[0m\u001b[1;33m\u001b[0m\u001b[0m\n\u001b[0;32m    668\u001b[0m             \u001b[1;32mtry\u001b[0m\u001b[1;33m:\u001b[0m\u001b[1;33m\u001b[0m\u001b[1;33m\u001b[0m\u001b[0m\n\u001b[1;32m--> 669\u001b[1;33m                 \u001b[1;32mreturn\u001b[0m \u001b[0mself\u001b[0m\u001b[1;33m.\u001b[0m\u001b[0m_sock\u001b[0m\u001b[1;33m.\u001b[0m\u001b[0mrecv_into\u001b[0m\u001b[1;33m(\u001b[0m\u001b[0mb\u001b[0m\u001b[1;33m)\u001b[0m\u001b[1;33m\u001b[0m\u001b[1;33m\u001b[0m\u001b[0m\n\u001b[0m\u001b[0;32m    670\u001b[0m             \u001b[1;32mexcept\u001b[0m \u001b[0mtimeout\u001b[0m\u001b[1;33m:\u001b[0m\u001b[1;33m\u001b[0m\u001b[1;33m\u001b[0m\u001b[0m\n\u001b[0;32m    671\u001b[0m                 \u001b[0mself\u001b[0m\u001b[1;33m.\u001b[0m\u001b[0m_timeout_occurred\u001b[0m \u001b[1;33m=\u001b[0m \u001b[1;32mTrue\u001b[0m\u001b[1;33m\u001b[0m\u001b[1;33m\u001b[0m\u001b[0m\n",
      "\u001b[1;32mC:\\Anaconda\\lib\\ssl.py\u001b[0m in \u001b[0;36mrecv_into\u001b[1;34m(self, buffer, nbytes, flags)\u001b[0m\n\u001b[0;32m   1239\u001b[0m                   \u001b[1;34m\"non-zero flags not allowed in calls to recv_into() on %s\"\u001b[0m \u001b[1;33m%\u001b[0m\u001b[1;33m\u001b[0m\u001b[1;33m\u001b[0m\u001b[0m\n\u001b[0;32m   1240\u001b[0m                   self.__class__)\n\u001b[1;32m-> 1241\u001b[1;33m             \u001b[1;32mreturn\u001b[0m \u001b[0mself\u001b[0m\u001b[1;33m.\u001b[0m\u001b[0mread\u001b[0m\u001b[1;33m(\u001b[0m\u001b[0mnbytes\u001b[0m\u001b[1;33m,\u001b[0m \u001b[0mbuffer\u001b[0m\u001b[1;33m)\u001b[0m\u001b[1;33m\u001b[0m\u001b[1;33m\u001b[0m\u001b[0m\n\u001b[0m\u001b[0;32m   1242\u001b[0m         \u001b[1;32melse\u001b[0m\u001b[1;33m:\u001b[0m\u001b[1;33m\u001b[0m\u001b[1;33m\u001b[0m\u001b[0m\n\u001b[0;32m   1243\u001b[0m             \u001b[1;32mreturn\u001b[0m \u001b[0msuper\u001b[0m\u001b[1;33m(\u001b[0m\u001b[1;33m)\u001b[0m\u001b[1;33m.\u001b[0m\u001b[0mrecv_into\u001b[0m\u001b[1;33m(\u001b[0m\u001b[0mbuffer\u001b[0m\u001b[1;33m,\u001b[0m \u001b[0mnbytes\u001b[0m\u001b[1;33m,\u001b[0m \u001b[0mflags\u001b[0m\u001b[1;33m)\u001b[0m\u001b[1;33m\u001b[0m\u001b[1;33m\u001b[0m\u001b[0m\n",
      "\u001b[1;32mC:\\Anaconda\\lib\\ssl.py\u001b[0m in \u001b[0;36mread\u001b[1;34m(self, len, buffer)\u001b[0m\n\u001b[0;32m   1097\u001b[0m         \u001b[1;32mtry\u001b[0m\u001b[1;33m:\u001b[0m\u001b[1;33m\u001b[0m\u001b[1;33m\u001b[0m\u001b[0m\n\u001b[0;32m   1098\u001b[0m             \u001b[1;32mif\u001b[0m \u001b[0mbuffer\u001b[0m \u001b[1;32mis\u001b[0m \u001b[1;32mnot\u001b[0m \u001b[1;32mNone\u001b[0m\u001b[1;33m:\u001b[0m\u001b[1;33m\u001b[0m\u001b[1;33m\u001b[0m\u001b[0m\n\u001b[1;32m-> 1099\u001b[1;33m                 \u001b[1;32mreturn\u001b[0m \u001b[0mself\u001b[0m\u001b[1;33m.\u001b[0m\u001b[0m_sslobj\u001b[0m\u001b[1;33m.\u001b[0m\u001b[0mread\u001b[0m\u001b[1;33m(\u001b[0m\u001b[0mlen\u001b[0m\u001b[1;33m,\u001b[0m \u001b[0mbuffer\u001b[0m\u001b[1;33m)\u001b[0m\u001b[1;33m\u001b[0m\u001b[1;33m\u001b[0m\u001b[0m\n\u001b[0m\u001b[0;32m   1100\u001b[0m             \u001b[1;32melse\u001b[0m\u001b[1;33m:\u001b[0m\u001b[1;33m\u001b[0m\u001b[1;33m\u001b[0m\u001b[0m\n\u001b[0;32m   1101\u001b[0m                 \u001b[1;32mreturn\u001b[0m \u001b[0mself\u001b[0m\u001b[1;33m.\u001b[0m\u001b[0m_sslobj\u001b[0m\u001b[1;33m.\u001b[0m\u001b[0mread\u001b[0m\u001b[1;33m(\u001b[0m\u001b[0mlen\u001b[0m\u001b[1;33m)\u001b[0m\u001b[1;33m\u001b[0m\u001b[1;33m\u001b[0m\u001b[0m\n",
      "\u001b[1;31mKeyboardInterrupt\u001b[0m: "
     ]
    }
   ],
   "source": [
    "# Start timer\n",
    "startNow = datetime.datetime.now()\n",
    "print(\"Starting at \" + str(startNow))\n",
    "\n",
    "# For each storage\n",
    "for worksNumber in worksSet:\n",
    "    \n",
    "    # Create a image filename\n",
    "    filename = \"output\\\\\" + worksNumber + \".png\"\n",
    "    \n",
    "    # Check if already completed\n",
    "    if file_exists(filename):\n",
    "        \n",
    "        print(\"Skipping: \" + filename)\n",
    "        \n",
    "    else:\n",
    "    \n",
    "        # Start process\n",
    "        print(\"Exporting: \" + filename)\n",
    "\n",
    "        # Create an image function to map\n",
    "        exportMap(worksNumber)\n",
    "\n",
    "# Print the storage stats\n",
    "print(\"Finished\")\n",
    "\n",
    "# Finish time\n",
    "endNow = datetime.datetime.now()\n",
    "diff = (endNow-startNow).total_seconds()\n",
    "print(\"End at \" + str(endNow))\n",
    "print(\"Taking: \" + str(diff/60) + \" minutes\")"
   ]
  },
  {
   "cell_type": "markdown",
   "metadata": {},
   "source": [
    "### Open image in Geopandas and add boundary"
   ]
  },
  {
   "cell_type": "code",
   "execution_count": 54,
   "metadata": {},
   "outputs": [
    {
     "data": {
      "application/vnd.jupyter.widget-view+json": {
       "model_id": "8a707e9aa1d049f9af940e22010f8f0c",
       "version_major": 2,
       "version_minor": 0
      },
      "text/plain": [
       "Map(center=[20, 0], controls=(WidgetControl(options=['position', 'transparent_bg'], widget=HBox(children=(Togg…"
      ]
     },
     "metadata": {},
     "output_type": "display_data"
    }
   ],
   "source": [
    "Map = geemap.Map()\n",
    "Map"
   ]
  },
  {
   "cell_type": "code",
   "execution_count": 55,
   "metadata": {},
   "outputs": [],
   "source": [
    "# Select the feature\n",
    "worksNumber = '14688'\n",
    "storage_selection = storage_collection.filter(ee.Filter.eq(\"Wks_Num_tx\", worksNumber))   \n",
    "# Get the geometry\n",
    "storage_geometry2 = storage_selection.geometry()\n",
    "storage_geometry = storage_selection.geometry()\n",
    "storage_geometry = storage_geometry.buffer(distance=500)\n",
    "storage_geometry = storage_geometry.bounds()\n",
    "# Get the latest image\n",
    "s2 = ee.ImageCollection(\"COPERNICUS/S2_SR\").filterBounds(storage_geometry).select(['B2','B3','B4'])\n",
    "# Filter images by cloud cover\n",
    "s2 = s2.filter(ee.Filter.lt('CLOUDY_PIXEL_PERCENTAGE', 1))\n",
    "# Get the latest image\n",
    "imageSize = s2.size().getInfo()    \n",
    "imageList = s2.toList(s2.size())\n",
    "# Choose the image\n",
    "image = ee.Image(imageList.get(imageSize-1))        \n",
    "# Create a RGB image for export\n",
    "stats = image.reduceRegion(reducer=ee.Reducer.minMax(),geometry=storage_geometry,scale=100,bestEffort=True)\n",
    "statDict = stats.getInfo()\n",
    "\n",
    "prettyImg = image.visualize(bands=['B4', 'B3', 'B2'],                                 \n",
    "     min=[statDict['B4_min'],statDict['B3_min'],statDict['B2_min']],\n",
    "     max=[statDict['B4_max'],statDict['B3_max'],statDict['B2_max']],\n",
    "     gamma=1)\n",
    "\n",
    "\n"
   ]
  },
  {
   "cell_type": "code",
   "execution_count": 56,
   "metadata": {},
   "outputs": [
    {
     "data": {
      "application/vnd.jupyter.widget-view+json": {
       "model_id": "b026ba01a6a748589f7710b45bbccab0",
       "version_major": 2,
       "version_minor": 0
      },
      "text/plain": [
       "Map(center=[20, 0], controls=(WidgetControl(options=['position', 'transparent_bg'], widget=HBox(children=(Togg…"
      ]
     },
     "metadata": {},
     "output_type": "display_data"
    }
   ],
   "source": [
    "# Add to map\n",
    "Map = geemap.Map(toolbar_ctrl=True, layer_ctrl=True)\n",
    "Map"
   ]
  },
  {
   "cell_type": "code",
   "execution_count": 57,
   "metadata": {},
   "outputs": [],
   "source": [
    "#Map.centerObject(prettyImg, zoom=8)\n",
    "#Map.addLayer(prettyImg, {}, \"Sentinel 2\")\n",
    "#ee_object = geemap.geojson_to_ee(storage_selection)\n",
    "Map.addLayer(image, {}, 'Storage')\n",
    "#Map.to_image(filename=filename, monitor=1)"
   ]
  },
  {
   "cell_type": "code",
   "execution_count": 58,
   "metadata": {},
   "outputs": [
    {
     "data": {
      "application/vnd.jupyter.widget-view+json": {
       "model_id": "b026ba01a6a748589f7710b45bbccab0",
       "version_major": 2,
       "version_minor": 0
      },
      "text/plain": [
       "Map(bottom=754.0, center=[20, 0], controls=(WidgetControl(options=['position', 'transparent_bg'], widget=HBox(…"
      ]
     },
     "metadata": {},
     "output_type": "display_data"
    }
   ],
   "source": [
    "Map"
   ]
  },
  {
   "cell_type": "code",
   "execution_count": 59,
   "metadata": {},
   "outputs": [],
   "source": [
    "Map.centerObject(prettyImg, zoom=1)\n",
    "Map.addLayer(prettyImg, {}, \"Sentinel 2\")"
   ]
  },
  {
   "cell_type": "code",
   "execution_count": 60,
   "metadata": {},
   "outputs": [
    {
     "data": {
      "application/vnd.jupyter.widget-view+json": {
       "model_id": "b026ba01a6a748589f7710b45bbccab0",
       "version_major": 2,
       "version_minor": 0
      },
      "text/plain": [
       "Map(bottom=756.278848, center=[-28.511135979585635, 148.58267874484523], controls=(WidgetControl(options=['pos…"
      ]
     },
     "metadata": {},
     "output_type": "display_data"
    }
   ],
   "source": [
    "Map"
   ]
  },
  {
   "cell_type": "code",
   "execution_count": null,
   "metadata": {},
   "outputs": [],
   "source": []
  }
 ],
 "metadata": {
  "kernelspec": {
   "display_name": "Python 3",
   "language": "python",
   "name": "python3"
  },
  "language_info": {
   "codemirror_mode": {
    "name": "ipython",
    "version": 3
   },
   "file_extension": ".py",
   "mimetype": "text/x-python",
   "name": "python",
   "nbconvert_exporter": "python",
   "pygments_lexer": "ipython3",
   "version": "3.8.3"
  }
 },
 "nbformat": 4,
 "nbformat_minor": 4
}
