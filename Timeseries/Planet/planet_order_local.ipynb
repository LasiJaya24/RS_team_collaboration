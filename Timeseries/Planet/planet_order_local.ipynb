{
 "cells": [
  {
   "cell_type": "code",
   "execution_count": 5,
   "metadata": {},
   "outputs": [
    {
     "ename": "ImportError",
     "evalue": "cannot import name 'api' from 'planet' (C:\\Anaconda\\lib\\site-packages\\planet\\__init__.py)",
     "output_type": "error",
     "traceback": [
      "\u001b[1;31m---------------------------------------------------------------------------\u001b[0m",
      "\u001b[1;31mImportError\u001b[0m                               Traceback (most recent call last)",
      "\u001b[1;32m<ipython-input-5-f105ccfe71de>\u001b[0m in \u001b[0;36m<module>\u001b[1;34m\u001b[0m\n\u001b[1;32m----> 1\u001b[1;33m \u001b[1;32mfrom\u001b[0m \u001b[0mplanet\u001b[0m \u001b[1;32mimport\u001b[0m \u001b[0mapi\u001b[0m\u001b[1;33m\u001b[0m\u001b[1;33m\u001b[0m\u001b[0m\n\u001b[0m\u001b[0;32m      2\u001b[0m \u001b[1;33m\u001b[0m\u001b[0m\n\u001b[0;32m      3\u001b[0m \u001b[0mclient\u001b[0m \u001b[1;33m=\u001b[0m \u001b[0mapi\u001b[0m\u001b[1;33m.\u001b[0m\u001b[0mClientV1\u001b[0m\u001b[1;33m(\u001b[0m\u001b[0mapi_key\u001b[0m\u001b[1;33m=\u001b[0m\u001b[1;34m'98c3d498f425463ab3b3d3634bcef6b2'\u001b[0m\u001b[1;33m)\u001b[0m\u001b[1;33m\u001b[0m\u001b[1;33m\u001b[0m\u001b[0m\n\u001b[0;32m      4\u001b[0m \u001b[1;33m\u001b[0m\u001b[0m\n\u001b[0;32m      5\u001b[0m \u001b[1;31m# Load the shapefile\u001b[0m\u001b[1;33m\u001b[0m\u001b[1;33m\u001b[0m\u001b[1;33m\u001b[0m\u001b[0m\n",
      "\u001b[1;31mImportError\u001b[0m: cannot import name 'api' from 'planet' (C:\\Anaconda\\lib\\site-packages\\planet\\__init__.py)"
     ]
    }
   ],
   "source": [
    "from planet import api\n",
    "\n",
    "client = api.ClientV1(api_key='98c3d498f425463ab3b3d3634bcef6b2')\n",
    "\n",
    "# Load the shapefile\n",
    "shapefile_path = 'c:/temp/planet/waterbody.shp'\n",
    "shapefile_gdf = gpd.read_file(shapefile_path)\n",
    "shapefile_wgs84  = shapefile_gdf.to_crs(\"epsg:4269\")\n",
    "\n",
    "# Get the bounding box coordinates\n",
    "bounding_box = shapefile_wgs84.bounds.values[0]\n",
    "\n",
    "print(bounding_box)\n",
    "\n",
    "aoi = {\n",
    "  \"type\": \"Polygon\",\n",
    "  \"coordinates\": [bounding_box],\n",
    "}\n",
    "\n",
    "max_cloud_percentage = 0.1\n",
    "\n",
    "# build a filter for the AOI\n",
    "query = api.filters.and_filter(\n",
    "  api.filters.geom_filter(aoi),\n",
    "  api.filters.range_filter('cloud_cover', gt=0),\n",
    "  api.filters.range_filter('cloud_cover', lt=max_cloud_percentage)\n",
    ")\n",
    "\n",
    "# we are requesting PlanetScope 4 Band imagery\n",
    "item_types = ['PSScene4Band']\n",
    "request = api.filters.build_search_request(query, item_types)\n",
    "\n",
    "# this will cause an exception if there are any API related errors\n",
    "results = client.quick_search(request)\n",
    "\n",
    "# directory path to save images\n",
    "save_dir = 'c:/temp/planet/download'\n",
    "no_of_images = 1000\n",
    "\n",
    "# items_iter returns an iterator over API response pages\n",
    "for item in results.items_iter(no_of_images):\n",
    "    # each item is a GeoJSON feature\n",
    "    print(item['id'])\n",
    "    assets = client.get_assets(item).get()\n",
    "    activation = client.activate(assets['ortho_analytic_4b_sr'])\n",
    "\n",
    "    callback = api.write_to_file(directory=save_dir)\n",
    "    body = client.download(assets['ortho_analytic_4b_sr'], callback=callback)\n",
    "    #body.await()\n"
   ]
  },
  {
   "cell_type": "code",
   "execution_count": null,
   "metadata": {},
   "outputs": [],
   "source": []
  }
 ],
 "metadata": {
  "kernelspec": {
   "display_name": "Python 3",
   "language": "python",
   "name": "python3"
  },
  "language_info": {
   "codemirror_mode": {
    "name": "ipython",
    "version": 3
   },
   "file_extension": ".py",
   "mimetype": "text/x-python",
   "name": "python",
   "nbconvert_exporter": "python",
   "pygments_lexer": "ipython3",
   "version": "3.8.3"
  }
 },
 "nbformat": 4,
 "nbformat_minor": 4
}
