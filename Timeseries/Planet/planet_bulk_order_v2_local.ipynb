{
 "cells": [
  {
   "cell_type": "code",
   "execution_count": 4,
   "metadata": {},
   "outputs": [],
   "source": [
    "import geopandas as gpd\n",
    "import requests\n",
    "import json\n",
    "from datetime import datetime"
   ]
  },
  {
   "cell_type": "code",
   "execution_count": 5,
   "metadata": {},
   "outputs": [
    {
     "name": "stdout",
     "output_type": "stream",
     "text": [
      "[151.2994286  -27.75282169 151.31083805 -27.7450019 ]\n"
     ]
    }
   ],
   "source": [
    "# Load the shapefile\n",
    "shapefile_path = 'c:/temp/planet/waterbody.shp'\n",
    "gdf = gpd.read_file(shapefile_path)\n",
    "shapefile_wgs84  = gdf.to_crs(\"epsg:4269\")\n",
    "\n",
    "# Get the bounding box coordinates\n",
    "bounding_box = shapefile_wgs84.bounds.values[0]\n",
    "print(bounding_box)"
   ]
  },
  {
   "cell_type": "code",
   "execution_count": 8,
   "metadata": {},
   "outputs": [
    {
     "ename": "SyntaxError",
     "evalue": "invalid syntax (<ipython-input-8-5b2f6b211cd4>, line 36)",
     "output_type": "error",
     "traceback": [
      "\u001b[1;36m  File \u001b[1;32m\"<ipython-input-8-5b2f6b211cd4>\"\u001b[1;36m, line \u001b[1;32m36\u001b[0m\n\u001b[1;33m    }\u001b[0m\n\u001b[1;37m    ^\u001b[0m\n\u001b[1;31mSyntaxError\u001b[0m\u001b[1;31m:\u001b[0m invalid syntax\n"
     ]
    }
   ],
   "source": [
    "# Define date range\n",
    "start_date = '2022-12-20T00:00:00Z'  # Start date in ISO 8601 format\n",
    "end_date = '2023-12-19T23:59:59Z'  # End date in ISO 8601 format\n",
    "\n",
    "# Define other parameters such as item type (e.g., PSOrthoTile) and asset type (e.g., visual)\n",
    "item_type = 'PSScene'  # Modify based on your requirement\n",
    "asset_type = 'ortho_analytic_8b_sr'\n",
    "\n",
    "# Define filters\n",
    "filters = {\n",
    "    \"type\": \"AndFilter\",\n",
    "    \"config\": [\n",
    "        {\n",
    "            \"type\": \"GeometryFilter\",\n",
    "            \"field_name\": \"geometry\",\n",
    "            \"config\": {\n",
    "                \"type\": \"Polygon\",\n",
    "                \"coordinates\": [\n",
    "                    [\n",
    "                        [bounding_box[0], bounding_box[1]],\n",
    "                        [bounding_box[0], bounding_box[3]],\n",
    "                        [bounding_box[2], bounding_box[3]],\n",
    "                        [bounding_box[2], bounding_box[1]],\n",
    "                        [bounding_box[0], bounding_box[1]]\n",
    "                    ]\n",
    "                ]\n",
    "        },\n",
    "        {\n",
    "            \"type\": \"DateRangeFilter\",\n",
    "            \"field_name\": \"acquired\",\n",
    "            \"config\": {\n",
    "                \"gte\": start_date,\n",
    "                \"lte\": end_date\n",
    "            }\n",
    "        }\n",
    "}\n",
    "    ]\n",
    "# Define request payload\n",
    "request_payload = {\n",
    "    \"item_types\": [item_type],\n",
    "    \"filter\": filters\n",
    "}\n"
   ]
  },
  {
   "cell_type": "code",
   "execution_count": null,
   "metadata": {},
   "outputs": [],
   "source": [
    "\n",
    "# Define your Planet API key\n",
    "API_KEY = '98c3d498f425463ab3b3d3634bcef6b2'\n",
    "\n",
    "# Set authorization headers\n",
    "headers = {\n",
    "    'Authorization': f'api-key {API_KEY}',\n",
    "    'Content-Type': 'application/json'\n",
    "}\n",
    "\n",
    "# Send request to Planet API\n",
    "response = requests.post('https://api.planet.com/data/v1/quick-search', data=json.dumps(request_payload), headers=headers)\n",
    "\n",
    "# Check if request was successful\n",
    "if response.status_code == 200:\n",
    "    # Parse the response\n",
    "    results = response.json()['features']\n",
    "    for result in results:\n",
    "        # Get asset links\n",
    "        assets = result['_links']['assets']\n",
    "        # Download the asset\n",
    "        asset_response = requests.get(assets[asset_type], headers=headers)\n",
    "        # Save the asset to file\n",
    "        with open(f\"{result['id']}.tif\", 'wb') as f:\n",
    "            f.write(asset_response.content)\n",
    "    print(\"Download complete.\")\n",
    "else:\n",
    "    print(\"Error:\", response.status_code)\n",
    "    print(response.text)"
   ]
  },
  {
   "cell_type": "code",
   "execution_count": null,
   "metadata": {},
   "outputs": [],
   "source": []
  }
 ],
 "metadata": {
  "kernelspec": {
   "display_name": "Python 3",
   "language": "python",
   "name": "python3"
  },
  "language_info": {
   "codemirror_mode": {
    "name": "ipython",
    "version": 3
   },
   "file_extension": ".py",
   "mimetype": "text/x-python",
   "name": "python",
   "nbconvert_exporter": "python",
   "pygments_lexer": "ipython3",
   "version": "3.8.3"
  }
 },
 "nbformat": 4,
 "nbformat_minor": 4
}
