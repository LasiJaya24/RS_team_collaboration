{
 "cells": [
  {
   "cell_type": "markdown",
   "metadata": {},
   "source": [
    "\n",
    "# Planet Features API - RDMW\n",
    "\n",
    "---"
   ]
  },
  {
   "cell_type": "markdown",
   "metadata": {},
   "source": [
    "### Import Packages & Define Helper Functions"
   ]
  },
  {
   "cell_type": "code",
   "execution_count": 29,
   "metadata": {},
   "outputs": [],
   "source": [
    "import os\n",
    "import json\n",
    "import requests\n",
    "import time\n",
    "import geopandas as gpd\n",
    "\n",
    "# Helper function to printformatted JSON using the json module\n",
    "def p(data):\n",
    "    print(json.dumps(data, indent=2))"
   ]
  },
  {
   "cell_type": "markdown",
   "metadata": {},
   "source": [
    "### Authentication\n",
    "\n",
    "Authentication with the Planet Features API be achieved using a valid Planet **API key**."
   ]
  },
  {
   "cell_type": "code",
   "execution_count": 30,
   "metadata": {},
   "outputs": [],
   "source": [
    "# if your Planet API Key is not set as an environment variable, you can paste it below\n",
    "if os.environ.get('PL_API_KEY', ''):\n",
    "    API_KEY = os.environ.get('PL_API_KEY', '')\n",
    "else:\n",
    "    API_KEY = '98c3d498f425463ab3b3d3634bcef6b2'\n",
    "\n",
    "    # construct auth tuple for use in the requests library\n",
    "BASIC_AUTH = (API_KEY, '')"
   ]
  },
  {
   "cell_type": "markdown",
   "metadata": {},
   "source": [
    "### Our First Request"
   ]
  },
  {
   "cell_type": "code",
   "execution_count": 31,
   "metadata": {},
   "outputs": [],
   "source": [
    "# Setup Planet Features API base URL\n",
    "URL = \"https://api.planet.com/features/v0/ogc/my/collections\"\n",
    "\n",
    "# Setup the session\n",
    "session = requests.Session()\n",
    "# Authenticate\n",
    "session.auth = (API_KEY, \"\")"
   ]
  },
  {
   "cell_type": "code",
   "execution_count": 32,
   "metadata": {},
   "outputs": [
    {
     "data": {
      "text/plain": [
       "200"
      ]
     },
     "execution_count": 32,
     "metadata": {},
     "output_type": "execute_result"
    }
   ],
   "source": [
    "# Make a GET request to the Planet Features API\n",
    "res = session.get(URL)\n",
    "# Now we should get a response, hopefully it's a `200` code, saying everything is OK!\n",
    "res.status_code"
   ]
  },
  {
   "cell_type": "markdown",
   "metadata": {},
   "source": [
    "## Let's Create Our First Feature Collection\n",
    "\n",
    "---\n",
    "\n",
    "To upload an AOI Feature you must first create a Feature Collection. To create a Feature Collection make a POST request to the `/collections` endpoint providing a title and optionally a description.\n",
    "\n",
    "The title will be used to create a \"slug\" that will be part of the collection's id.\n",
    "\n",
    "A Collection identifier is a combination of optional user-supplied title and a hashid. For example, if a user creates a Collection with the title set to \"My Great Places\", the URL path identifier used to reference the Collection will be my-great-places-HASHID (where HASHID might be 4wr3wrz, for example). The Collection may also be referenced using only the HASHID - this way the user may change the title of their Collection if needed.\n"
   ]
  },
  {
   "cell_type": "code",
   "execution_count": 33,
   "metadata": {},
   "outputs": [
    {
     "name": "stdout",
     "output_type": "stream",
     "text": [
      "{\n",
      "  \"id\": \"waterbodies-EZMJjv8\",\n",
      "  \"title\": \"Waterbodies\",\n",
      "  \"description\": \"A collection of waterbodies for analysis\",\n",
      "  \"item_type\": \"feature\",\n",
      "  \"links\": [\n",
      "    {\n",
      "      \"href\": \"https://api.planet.com/features/v0/ogc/my/collections/waterbodies-EZMJjv8\",\n",
      "      \"rel\": \"self\",\n",
      "      \"title\": \"This collection\",\n",
      "      \"type\": \"application/json\"\n",
      "    },\n",
      "    {\n",
      "      \"href\": \"https://api.planet.com/features/v0/ogc/my/collections/waterbodies-EZMJjv8/items\",\n",
      "      \"rel\": \"features\",\n",
      "      \"title\": \"Features\",\n",
      "      \"type\": \"application/json\"\n",
      "    }\n",
      "  ],\n",
      "  \"feature_count\": 0,\n",
      "  \"area\": null,\n",
      "  \"permissions\": {\n",
      "    \"can_write\": true,\n",
      "    \"shared_with_my_org\": false,\n",
      "    \"is_owner\": true\n",
      "  }\n",
      "}\n"
     ]
    }
   ],
   "source": [
    "request = {\n",
    "    \"title\" : \"Waterbodies\",\n",
    "    \"description\" : \"A collection of waterbodies for analysis\"\n",
    "}\n",
    "\n",
    "# Send the POST request to the API stats endpoint\n",
    "res = session.post(URL, json=request)\n",
    "\n",
    "# Print response\n",
    "p(res.json())\n",
    "\n",
    "# let's save the collection-id to use later\n",
    "collection_id = res.json()[\"id\"]"
   ]
  },
  {
   "cell_type": "markdown",
   "metadata": {},
   "source": [
    "## Adding Features to our Collection \n",
    "The features API guarantees that your geojson will work in Planet's Platform.\n",
    "\n",
    "*Note* there is a 1500 vertex limit"
   ]
  },
  {
   "cell_type": "code",
   "execution_count": 34,
   "metadata": {},
   "outputs": [
    {
     "name": "stdout",
     "output_type": "stream",
     "text": [
      "[151.2994286  -27.75282169 151.31083805 -27.7450019 ]\n",
      "pl:features/my/waterbodies-EZMJjv8/1-07przlm\n"
     ]
    }
   ],
   "source": [
    "# Load the shapefile\n",
    "shapefile_path = 'c:/temp/planet/waterbody.shp'\n",
    "shapefile_gdf = gpd.read_file(shapefile_path)\n",
    "shapefile_wgs84  = shapefile_gdf.to_crs(\"epsg:4269\")\n",
    "\n",
    "# Get the bounding box coordinates\n",
    "bounding_box = shapefile_wgs84.bounds.values[0]\n",
    "\n",
    "print(bounding_box)\n",
    "\n",
    "# Put your own Polygon here!\n",
    "geo1 = {\n",
    "    \"type\": \"Polygon\",\n",
    "    \"coordinates\": [\n",
    "                    [\n",
    "                        [bounding_box[0], bounding_box[1]],\n",
    "                        [bounding_box[0], bounding_box[3]],\n",
    "                        [bounding_box[2], bounding_box[3]],\n",
    "                        [bounding_box[2], bounding_box[1]],\n",
    "                        [bounding_box[0], bounding_box[1]]\n",
    "                    ]\n",
    "                ]\n",
    "            }\n",
    "\n",
    "request = {\n",
    "    \"geometry\": geo1,\n",
    "    \"id\": \"1\", #optional, if you want to give your feature it's own id, use that here. this needs to be unique\n",
    "    \"properties\" : {\n",
    "        \"title\": \"some-title\",\n",
    "        \"description\": \"some-description\"\n",
    "    }\n",
    "\n",
    "}\n",
    "\n",
    "res = session.post(URL +\"/\"+ collection_id + \"/items\", json=request)\n",
    "\n",
    "# Let's save the response as the short ref for later!\n",
    "short_ref = res.json()[0]\n",
    "\n",
    "print(short_ref)"
   ]
  },
  {
   "cell_type": "markdown",
   "metadata": {},
   "source": [
    "## Getting/Editing Features\n",
    "\n",
    "Once you've created features you can list all, or just get one. You can also edit a feature after you've created it, it will create a new version of that feature. \n",
    "View [the documentation to learn more](https://developers.planet.com/docs/apis/features/upload-and-validate/#accessing-your-features)"
   ]
  },
  {
   "cell_type": "markdown",
   "metadata": {},
   "source": [
    "## Validating Features before Create\n",
    "\n",
    "---\n",
    "\n",
    "The Features API enables you to check if your Feature geometry is valid for use in Planet's Platform before uploading it to your Feature Collection. The `/validate` endpoint provides more details as to why a geometry is invalid, such as not meeting the vertex limit. The validation endpoint only supports validating Features.  \n",
    "*i.e., you cannot validate a Feature Collection.*\n",
    "\n"
   ]
  },
  {
   "cell_type": "code",
   "execution_count": 35,
   "metadata": {},
   "outputs": [
    {
     "name": "stdout",
     "output_type": "stream",
     "text": [
      "{\n",
      "  \"status\": \"okay\",\n",
      "  \"detail\": \"No errors.\"\n",
      "}\n"
     ]
    }
   ],
   "source": [
    "validate_url =  'https://api.planet.com/features/v0/ogc/my/collections/validate'\n",
    "\n",
    "# A request with no issues\n",
    "request = {\n",
    "    \"type\": \"Feature\", \n",
    "    \"properties\": {},\n",
    "    \"geometry\": geo1,\n",
    "    }\n",
    "\n",
    "\n",
    "res = session.post(validate_url, json=request)\n",
    "p(res.json())"
   ]
  },
  {
   "cell_type": "markdown",
   "metadata": {},
   "source": [
    "### Let's try getting alternates for a feature with more than 1500 vertices"
   ]
  },
  {
   "cell_type": "code",
   "execution_count": 14,
   "metadata": {},
   "outputs": [
    {
     "name": "stdout",
     "output_type": "stream",
     "text": [
      "{\n",
      "  \"status\": \"okay\",\n",
      "  \"detail\": \"No errors.\"\n",
      "}\n"
     ]
    }
   ],
   "source": [
    "res = session.post(validate_url, json=request)\n",
    "p(res.json())"
   ]
  },
  {
   "cell_type": "markdown",
   "metadata": {},
   "source": [
    "### Get an alternative"
   ]
  },
  {
   "cell_type": "code",
   "execution_count": 15,
   "metadata": {},
   "outputs": [
    {
     "name": "stdout",
     "output_type": "stream",
     "text": [
      "{\n",
      "  \"type\": \"FeatureCollection\",\n",
      "  \"features\": [\n",
      "    {\n",
      "      \"properties\": {\n",
      "        \"technique\": \"Bounding box\"\n",
      "      }\n",
      "    },\n",
      "    {\n",
      "      \"properties\": {\n",
      "        \"technique\": \"Convex hull\"\n",
      "      }\n",
      "    },\n",
      "    {\n",
      "      \"properties\": {\n",
      "        \"technique\": \"Buffered by 1m and simplified\"\n",
      "      }\n",
      "    },\n",
      "    {\n",
      "      \"properties\": {\n",
      "        \"technique\": \"Simplified to ~1cm\"\n",
      "      }\n",
      "    }\n",
      "  ]\n",
      "}\n"
     ]
    }
   ],
   "source": [
    "alternate_url = 'https://api.planet.com/features/v0/ogc/my/collections/alternates'\n",
    "\n",
    "res = session.post(alternate_url, json=request)\n",
    "alternates = res.json()\n",
    "\n",
    "# simplify the print here, we don't need to output all geometry points (cause it's a lot!)\n",
    "for item in alternates[\"features\"]:\n",
    "    del item[\"geometry\"]\n",
    "\n",
    "\n",
    "\n",
    "p(alternates)\n",
    "\n",
    "# if you want to see the whole output, comment the line below back in\n",
    "# p(res.json())"
   ]
  },
  {
   "cell_type": "markdown",
   "metadata": {},
   "source": [
    "*Note:* This endpoint provides provides recommendations and details about the technique used to alter the provided geometry so that it meets Planet's validity requirements.\n",
    "Pick which geometry makes sense for you."
   ]
  },
  {
   "cell_type": "markdown",
   "metadata": {},
   "source": [
    "## Using the references "
   ]
  },
  {
   "cell_type": "markdown",
   "metadata": {},
   "source": [
    "Features references are supported in the Data API, Subscriptions API and Orders API.\n",
    "We'll walk through some examples together below.\n",
    "\n",
    "For all APIs you can replace your current geometry geojson block requests with a block like this:\n",
    "```json\n",
    "  \"geometry\": {\n",
    "    \"content\": \"pl:features/my/[collection]/[feature-id]\", # your short ref\n",
    "    \"type\": \"ref\" # instead of a Polygon or Multipolygon, the type is `ref`\n",
    "  },\n",
    "\n",
    "```"
   ]
  },
  {
   "cell_type": "markdown",
   "metadata": {},
   "source": [
    "### Data API\n",
    "#### Quick Searches with a Feature Reference"
   ]
  },
  {
   "cell_type": "code",
   "execution_count": 16,
   "metadata": {},
   "outputs": [],
   "source": [
    "# Setup Item Types\n",
    "item_types = [\"PSScene\"]\n",
    "\n",
    "\n",
    "# Setup a geometry filter\n",
    "geometry = {\n",
    "    \"type\": \"ref\",\n",
    "    \"content\": short_ref,\n",
    "}\n",
    "\n",
    "# Let's filter for the month of jan, and images that are not too cloudy.\n",
    "filter = {\n",
    "   \"type\":\"AndFilter\",\n",
    "   \"config\":[\n",
    "        {\n",
    "            \"type\":\"DateRangeFilter\",\n",
    "            \"field_name\":\"acquired\",\n",
    "            \"config\":{\n",
    "               \"gte\":\"2022-12-20T00:00:00Z\",\n",
    "               \"lte\":\"2023-12-19T00:00:00Z\"\n",
    "            },\n",
    "        }, \n",
    "        {\n",
    "           \"type\":\"RangeFilter\",\n",
    "           \"field_name\":\"cloud_cover\",\n",
    "           \"config\":{\n",
    "              \"lte\":0.1\n",
    "           },\n",
    "        }\n",
    "   ]\n",
    "}\n",
    "\n",
    "\n",
    "# Setup the request\n",
    "request = {\n",
    "    \"item_types\" : item_types,\n",
    "    \"geometry\" : geometry,\n",
    "    \"filter\": filter\n",
    "    \n",
    "}"
   ]
  },
  {
   "cell_type": "code",
   "execution_count": 17,
   "metadata": {
    "scrolled": true
   },
   "outputs": [],
   "source": [
    "# Send the POST request to the API quick search endpoint\n",
    "quick_url =  \"https://api.planet.com/data/v1/quick-search\"\n",
    "res = session.post(quick_url, json=request)\n",
    "\n",
    "\n",
    "# Leaving the response commented out as it's quite long\n",
    "# Print the response\n",
    "# p(res.json())\n",
    "\n"
   ]
  },
  {
   "cell_type": "markdown",
   "metadata": {},
   "source": [
    "Nice! You'll notice the geometry that was used to seach becomes hydrated in the response.\n"
   ]
  },
  {
   "cell_type": "code",
   "execution_count": 18,
   "metadata": {},
   "outputs": [],
   "source": [
    "# save an item ID for the orders request below.\n",
    "item_id = res.json()[\"features\"][0][\"id\"]\n"
   ]
  },
  {
   "cell_type": "markdown",
   "metadata": {},
   "source": [
    "#### Saved Searches with a Feature Reference\n",
    "\n",
    "---\n",
    "\n",
    "The `/searches` endpoint lets you created saved searches that can be reused.\n",
    "\n",
    "To view your saved searches, visit the [`searches/?search_type=saved`](https://api.planet.com/data/v1/searches/?search_type=saved) endpoint.\n",
    "\n",
    "Finally, let's create a saved search using a feature reference:"
   ]
  },
  {
   "cell_type": "code",
   "execution_count": 22,
   "metadata": {},
   "outputs": [],
   "source": [
    "# Setup the saved searches endpoint url\n",
    "searches_url = \"https://api.planet.com/data/v1/searches\""
   ]
  },
  {
   "cell_type": "code",
   "execution_count": 24,
   "metadata": {
    "scrolled": true
   },
   "outputs": [
    {
     "name": "stdout",
     "output_type": "stream",
     "text": [
      "{\n",
      "  \"__daily_email_enabled\": false,\n",
      "  \"_links\": {\n",
      "    \"_self\": \"https://api.planet.com/data/v1/searches/7b1e31d8b7a14f24a1c7a246d85c5ffb\",\n",
      "    \"results\": \"https://api.planet.com/data/v1/searches/7b1e31d8b7a14f24a1c7a246d85c5ffb/results\"\n",
      "  },\n",
      "  \"created\": \"2024-03-12T03:34:21.369704Z\",\n",
      "  \"filter\": {\n",
      "    \"config\": [\n",
      "      {\n",
      "        \"config\": {\n",
      "          \"gte\": \"2022-12-20T00:00:00Z\",\n",
      "          \"lte\": \"2023-12-19T00:00:00Z\"\n",
      "        },\n",
      "        \"field_name\": \"acquired\",\n",
      "        \"type\": \"DateRangeFilter\"\n",
      "      },\n",
      "      {\n",
      "        \"config\": {\n",
      "          \"lte\": 0.1\n",
      "        },\n",
      "        \"field_name\": \"cloud_cover\",\n",
      "        \"type\": \"RangeFilter\"\n",
      "      }\n",
      "    ],\n",
      "    \"type\": \"AndFilter\"\n",
      "  },\n",
      "  \"geometry\": {\n",
      "    \"content\": [\n",
      "      \"pl:features/my/waterbodies-YvwXoqR/1-mkaR1Ng#1\"\n",
      "    ],\n",
      "    \"type\": \"ref\"\n",
      "  },\n",
      "  \"id\": \"7b1e31d8b7a14f24a1c7a246d85c5ffb\",\n",
      "  \"item_types\": [\n",
      "    \"PSScene\"\n",
      "  ],\n",
      "  \"last_executed\": null,\n",
      "  \"name\": \"Waterbodies search\",\n",
      "  \"search_type\": \"saved\",\n",
      "  \"updated\": \"2024-03-12T03:34:21.369704Z\"\n",
      "}\n"
     ]
    }
   ],
   "source": [
    "# Setup the request, specifying a name for the saved search, along with the usual search item_types and filter.\n",
    "\n",
    "request = {\n",
    "    \"name\" : \"Waterbodies search\",\n",
    "    \"item_types\" : item_types,\n",
    "    \"filter\" : filter,\n",
    "    \"geometry\": geometry\n",
    "}\n",
    "\n",
    "# Send a POST request to the saved searches endpoint (Create the saved search)\n",
    "res = session.post(searches_url, json=request)\n",
    "\n",
    "# Print the response\n",
    "p(res.json())"
   ]
  },
  {
   "cell_type": "markdown",
   "metadata": {},
   "source": [
    "*Note* you can see the reference returned in the search results"
   ]
  },
  {
   "cell_type": "markdown",
   "metadata": {},
   "source": [
    "Now that we created a saved search, let's get a list of our saved searches:"
   ]
  },
  {
   "cell_type": "code",
   "execution_count": 25,
   "metadata": {},
   "outputs": [
    {
     "name": "stdout",
     "output_type": "stream",
     "text": [
      "{\n",
      "  \"_links\": {\n",
      "    \"_first\": \"https://api.planet.com/data/v1/searches/?_page=eyJwYWdlX3NpemUiOiAyNTAsICJzb3J0X2J5IjogImNyZWF0ZWQiLCAic29ydF9kZXNjIjogdHJ1ZSwgInNvcnRfc3RhcnQiOiBudWxsLCAic29ydF9sYXN0X2lkIjogbnVsbCwgInNvcnRfcHJldiI6IGZhbHNlLCAicXVlcnlfcGFyYW1zIjogeyJzZWFyY2hfdHlwZSI6ICJzYXZlZCJ9fQ%3D%3D\",\n",
      "    \"_next\": \"https://api.planet.com/data/v1/searches/?_page=eyJwYWdlX3NpemUiOiAyNTAsICJzb3J0X2J5IjogImNyZWF0ZWQiLCAic29ydF9kZXNjIjogdHJ1ZSwgInNvcnRfc3RhcnQiOiAiMjAyNC0wMy0xMlQwMzozMzo1OS45MDIwNDdaIiwgInNvcnRfbGFzdF9pZCI6ICIyNzExMDEzODYwIiwgInNvcnRfcHJldiI6IGZhbHNlLCAicXVlcnlfcGFyYW1zIjogeyJzZWFyY2hfdHlwZSI6ICJzYXZlZCJ9fQ%3D%3D\",\n",
      "    \"_prev\": \"https://api.planet.com/data/v1/searches/?_page=eyJwYWdlX3NpemUiOiAyNTAsICJzb3J0X2J5IjogImNyZWF0ZWQiLCAic29ydF9kZXNjIjogdHJ1ZSwgInNvcnRfc3RhcnQiOiAiMjAyNC0wMy0xMlQwMzozNDoyMS4zNjk3MDRaIiwgInNvcnRfbGFzdF9pZCI6ICIyNzExMDEzOTgyIiwgInNvcnRfcHJldiI6IHRydWUsICJxdWVyeV9wYXJhbXMiOiB7InNlYXJjaF90eXBlIjogInNhdmVkIn19\",\n",
      "    \"_self\": \"https://api.planet.com/data/v1/searches/?_page=eyJwYWdlX3NpemUiOiAyNTAsICJzb3J0X2J5IjogImNyZWF0ZWQiLCAic29ydF9kZXNjIjogdHJ1ZSwgInNvcnRfc3RhcnQiOiBudWxsLCAic29ydF9sYXN0X2lkIjogbnVsbCwgInNvcnRfcHJldiI6IGZhbHNlLCAicXVlcnlfcGFyYW1zIjogeyJzZWFyY2hfdHlwZSI6ICJzYXZlZCJ9fQ%3D%3D\"\n",
      "  },\n",
      "  \"searches\": [\n",
      "    {\n",
      "      \"__daily_email_enabled\": false,\n",
      "      \"_links\": {\n",
      "        \"_self\": \"https://api.planet.com/data/v1/searches/7b1e31d8b7a14f24a1c7a246d85c5ffb\",\n",
      "        \"results\": \"https://api.planet.com/data/v1/searches/7b1e31d8b7a14f24a1c7a246d85c5ffb/results\"\n",
      "      },\n",
      "      \"created\": \"2024-03-12T03:34:21.369704Z\",\n",
      "      \"filter\": {\n",
      "        \"config\": [\n",
      "          {\n",
      "            \"config\": {\n",
      "              \"gte\": \"2022-12-20T00:00:00Z\",\n",
      "              \"lte\": \"2023-12-19T00:00:00Z\"\n",
      "            },\n",
      "            \"field_name\": \"acquired\",\n",
      "            \"type\": \"DateRangeFilter\"\n",
      "          },\n",
      "          {\n",
      "            \"config\": {\n",
      "              \"lte\": 0.1\n",
      "            },\n",
      "            \"field_name\": \"cloud_cover\",\n",
      "            \"type\": \"RangeFilter\"\n",
      "          }\n",
      "        ],\n",
      "        \"type\": \"AndFilter\"\n",
      "      },\n",
      "      \"geometry\": {\n",
      "        \"content\": [\n",
      "          \"pl:features/my/waterbodies-YvwXoqR/1-mkaR1Ng#1\"\n",
      "        ],\n",
      "        \"type\": \"ref\"\n",
      "      },\n",
      "      \"id\": \"7b1e31d8b7a14f24a1c7a246d85c5ffb\",\n",
      "      \"item_types\": [\n",
      "        \"PSScene\"\n",
      "      ],\n",
      "      \"last_executed\": null,\n",
      "      \"name\": \"Waterbodies search\",\n",
      "      \"search_type\": \"saved\",\n",
      "      \"updated\": \"2024-03-12T03:34:21.369704Z\"\n",
      "    },\n",
      "    {\n",
      "      \"__daily_email_enabled\": false,\n",
      "      \"_links\": {\n",
      "        \"_self\": \"https://api.planet.com/data/v1/searches/2a73f0f2f8eb475ab0a51e7e1a868a2c\",\n",
      "        \"results\": \"https://api.planet.com/data/v1/searches/2a73f0f2f8eb475ab0a51e7e1a868a2c/results\"\n",
      "      },\n",
      "      \"created\": \"2024-03-12T03:33:59.902047Z\",\n",
      "      \"filter\": {\n",
      "        \"config\": [\n",
      "          {\n",
      "            \"config\": {\n",
      "              \"gte\": \"2022-12-20T00:00:00Z\",\n",
      "              \"lte\": \"2023-12-19T00:00:00Z\"\n",
      "            },\n",
      "            \"field_name\": \"acquired\",\n",
      "            \"type\": \"DateRangeFilter\"\n",
      "          },\n",
      "          {\n",
      "            \"config\": {\n",
      "              \"lte\": 0.1\n",
      "            },\n",
      "            \"field_name\": \"cloud_cover\",\n",
      "            \"type\": \"RangeFilter\"\n",
      "          }\n",
      "        ],\n",
      "        \"type\": \"AndFilter\"\n",
      "      },\n",
      "      \"geometry\": {\n",
      "        \"content\": [\n",
      "          \"pl:features/my/waterbodies-YvwXoqR/1-mkaR1Ng#1\"\n",
      "        ],\n",
      "        \"type\": \"ref\"\n",
      "      },\n",
      "      \"id\": \"2a73f0f2f8eb475ab0a51e7e1a868a2c\",\n",
      "      \"item_types\": [\n",
      "        \"PSScene\"\n",
      "      ],\n",
      "      \"last_executed\": null,\n",
      "      \"name\": \"My Feature reference search\",\n",
      "      \"search_type\": \"saved\",\n",
      "      \"updated\": \"2024-03-12T03:33:59.902047Z\"\n",
      "    }\n",
      "  ]\n",
      "}\n"
     ]
    }
   ],
   "source": [
    "# Send a GET request to the saved searches endpoint with the saved search type parameter (Get saved searches)\n",
    "res = session.get(searches_url, params={\"search_type\" : \"saved\"})\n",
    "\n",
    "p(res.json())\n"
   ]
  },
  {
   "cell_type": "markdown",
   "metadata": {},
   "source": [
    "And you'll see the reference returned when you query your saved searches."
   ]
  },
  {
   "cell_type": "markdown",
   "metadata": {},
   "source": [
    "### Orders API"
   ]
  },
  {
   "cell_type": "code",
   "execution_count": 26,
   "metadata": {},
   "outputs": [],
   "source": [
    "orders_url = \"https://api.planet.com/compute/ops/orders/v2\""
   ]
  },
  {
   "cell_type": "code",
   "execution_count": 27,
   "metadata": {},
   "outputs": [
    {
     "name": "stdout",
     "output_type": "stream",
     "text": [
      "{\n",
      "  \"_links\": {\n",
      "    \"_self\": \"https://api.planet.com/compute/ops/orders/v2/73cebb29-9361-4576-9534-d5745a32f036\"\n",
      "  },\n",
      "  \"created_on\": \"2024-03-12T03:34:53.547Z\",\n",
      "  \"error_hints\": [],\n",
      "  \"id\": \"73cebb29-9361-4576-9534-d5745a32f036\",\n",
      "  \"last_message\": \"Preparing order\",\n",
      "  \"last_modified\": \"2024-03-12T03:34:53.547Z\",\n",
      "  \"name\": \"Test order with a reference\",\n",
      "  \"products\": [\n",
      "    {\n",
      "      \"item_ids\": [\n",
      "        \"20231118_001225_60_24fb\"\n",
      "      ],\n",
      "      \"item_type\": \"PSScene\",\n",
      "      \"product_bundle\": \"analytic_udm2\"\n",
      "    }\n",
      "  ],\n",
      "  \"source_type\": \"scenes\",\n",
      "  \"state\": \"queued\",\n",
      "  \"tools\": [\n",
      "    {\n",
      "      \"clip\": {\n",
      "        \"aoi\": {\n",
      "          \"content\": \"pl:features/my/waterbodies-YvwXoqR/1-mkaR1Ng\",\n",
      "          \"type\": \"ref\"\n",
      "        }\n",
      "      }\n",
      "    }\n",
      "  ]\n",
      "}\n"
     ]
    }
   ],
   "source": [
    "request = {\n",
    "    \"name\": \"Test order with a reference\",\n",
    "    \"source_type\": \"scenes\",\n",
    "    \"products\": [\n",
    "        {\n",
    "            \"item_ids\": [\n",
    "                item_id # the id from the search request\n",
    "            ],\n",
    "            \"item_type\": \"PSScene\",\n",
    "            \"product_bundle\": \"analytic_udm2\"\n",
    "        }\n",
    "    ],\n",
    "    \"tools\": [\n",
    "        {\n",
    "            \"clip\": {\n",
    "                \"aoi\": {\n",
    "                    \"content\": short_ref,\n",
    "                    \"type\": \"ref\"\n",
    "                }\n",
    "            }\n",
    "        }\n",
    "    ]\n",
    "\n",
    "}\n",
    "\n",
    "# Send a POST request to the orders endpoint\n",
    "# WARNING: this will use your quota!\n",
    "res = session.post(orders_url, json=request)\n",
    "\n",
    "# Print the response\n",
    "p(res.json())\n",
    "# make the request"
   ]
  },
  {
   "cell_type": "markdown",
   "metadata": {},
   "source": [
    "**Note** Checkout that AOI reference in the response!!"
   ]
  },
  {
   "cell_type": "markdown",
   "metadata": {},
   "source": [
    "### Subscriptions API"
   ]
  },
  {
   "cell_type": "code",
   "execution_count": 28,
   "metadata": {},
   "outputs": [],
   "source": [
    "# set up the subscriptions url\n",
    "subs_url = \"https://api.planet.com/subscriptions/v1\"\n",
    "    \n",
    "# set up your bucket delivery\n",
    "delivery_type = \"your-delivery-type\"\n",
    "delivery_bucket = \"your-bucket-name\"\n",
    "delivery_creds = \"your-creds\""
   ]
  },
  {
   "cell_type": "markdown",
   "metadata": {},
   "source": [
    "**Note** You can use the short_ref in the source geometry and optionally in the clip geometry \n",
    "If you choose to clip your order with a Features refence, it must be the same reference used in the source geometry."
   ]
  },
  {
   "cell_type": "code",
   "execution_count": 24,
   "metadata": {},
   "outputs": [
    {
     "name": "stdout",
     "output_type": "stream",
     "text": [
      "{\n",
      "  \"name\": \"Example Subscription\",\n",
      "  \"source\": {\n",
      "    \"type\": \"catalog\",\n",
      "    \"parameters\": {\n",
      "      \"asset_types\": [\n",
      "        \"ortho_analytic_4b\"\n",
      "      ],\n",
      "      \"item_types\": [\n",
      "        \"PSScene\"\n",
      "      ],\n",
      "      \"geometry\": {\n",
      "        \"coordinates\": [\n",
      "          [\n",
      "            [\n",
      "              -125.29632568359376,\n",
      "              48.37084770238366\n",
      "            ],\n",
      "            [\n",
      "              -125.29632568359376,\n",
      "              49.335861591104106\n",
      "            ],\n",
      "            [\n",
      "              -123.2391357421875,\n",
      "              49.335861591104106\n",
      "            ],\n",
      "            [\n",
      "              -123.2391357421875,\n",
      "              48.37084770238366\n",
      "            ],\n",
      "            [\n",
      "              -125.29632568359376,\n",
      "              48.37084770238366\n",
      "            ]\n",
      "          ]\n",
      "        ],\n",
      "        \"type\": \"Polygon\"\n",
      "      },\n",
      "      \"geom_ref\": \"pl:features/my/8vdGGZe/amXKR50#1\",\n",
      "      \"start_time\": \"2024-01-01T00:00:00Z\",\n",
      "      \"end_time\": \"2024-01-15T00:00:00Z\",\n",
      "      \"publishing_stages\": [\n",
      "        \"standard\",\n",
      "        \"finalized\"\n",
      "      ],\n",
      "      \"time_range_type\": \"acquired\"\n",
      "    }\n",
      "  },\n",
      "  \"tools\": [\n",
      "    {\n",
      "      \"type\": \"clip\",\n",
      "      \"parameters\": {\n",
      "        \"aoi\": {\n",
      "          \"coordinates\": [\n",
      "            [\n",
      "              [\n",
      "                -125.29632568359376,\n",
      "                48.37084770238366\n",
      "              ],\n",
      "              [\n",
      "                -125.29632568359376,\n",
      "                49.335861591104106\n",
      "              ],\n",
      "              [\n",
      "                -123.2391357421875,\n",
      "                49.335861591104106\n",
      "              ],\n",
      "              [\n",
      "                -123.2391357421875,\n",
      "                48.37084770238366\n",
      "              ],\n",
      "              [\n",
      "                -125.29632568359376,\n",
      "                48.37084770238366\n",
      "              ]\n",
      "            ]\n",
      "          ],\n",
      "          \"type\": \"Polygon\"\n",
      "        }\n",
      "      }\n",
      "    }\n",
      "  ],\n",
      "  \"delivery\": {\n",
      "    \"type\": \"google_cloud_storage\",\n",
      "    \"parameters\": {\n",
      "      \"bucket\": \"planet-manila-api-next-subscriptions\",\n",
      "      \"credentials\": \"<REDACTED>\"\n",
      "    }\n",
      "  },\n",
      "  \"created\": \"2024-01-30T22:48:21.590282Z\",\n",
      "  \"_links\": {\n",
      "    \"_self\": \"https://api.planet.com/subscriptions/v1/db912b19-697b-42ba-8926-e94e93d5b246\"\n",
      "  },\n",
      "  \"status\": \"preparing\",\n",
      "  \"id\": \"db912b19-697b-42ba-8926-e94e93d5b246\",\n",
      "  \"updated\": \"2024-01-30T22:48:21.590282Z\"\n",
      "}\n"
     ]
    }
   ],
   "source": [
    "# set up the subscription request\n",
    "\n",
    "request = {\n",
    "    \"name\": \"Example Subscription\",\n",
    "    \"source\": {\n",
    "        \"type\": \"catalog\",\n",
    "        \"parameters\": {\n",
    "            \"geometry\": {\n",
    "                \"content\": short_ref,\n",
    "                \"type\": \"ref\"\n",
    "            },\n",
    "            \"time_range_type\": \"acquired\",\n",
    "            \"start_time\": \"2024-01-01T00:00:00Z\",\n",
    "            \"end_time\": \"2024-01-15T00:00:00Z\",\n",
    "            \"item_types\": [\n",
    "                \"PSScene\"\n",
    "            ],\n",
    "            \"asset_types\": [\n",
    "                \"ortho_analytic_4b\"\n",
    "            ]\n",
    "        }\n",
    "    },\n",
    "    \"tools\": [{\n",
    "        \"type\": \"clip\",\n",
    "        \"parameters\": {\n",
    "            \"aoi\": {\n",
    "                \"content\": short_ref,\n",
    "                \"type\": \"ref\"\n",
    "            }\n",
    "        }\n",
    "    }],\n",
    "    \"delivery\": {\n",
    "        \"type\": delivery_type,\n",
    "        \"parameters\": {\n",
    "            \"bucket\": delivery_bucket,\n",
    "            \"credentials\": delivery_creds\n",
    "        }\n",
    "    }\n",
    "}\n",
    "\n",
    "# Send a POST request to the subscription endpoint\n",
    "# WARNING: this will use your quota!\n",
    "res = session.post(subs_url, json=request)\n",
    "\n",
    "# Print the response\n",
    "p(res.json())"
   ]
  },
  {
   "cell_type": "markdown",
   "metadata": {},
   "source": [
    "**Note** You'll see the Features reference and the geojson returned in the subscriptions response."
   ]
  },
  {
   "cell_type": "markdown",
   "metadata": {},
   "source": [
    "## Conclusion \n",
    "**Congratulations!!**\n",
    "You made it! That's how you can use and reuse geometry references across the Planet Platform. Go forth to use and reuse your geometry without needing to carry your geojsons around! "
   ]
  }
 ],
 "metadata": {
  "kernelspec": {
   "display_name": "Python 3",
   "language": "python",
   "name": "python3"
  },
  "language_info": {
   "codemirror_mode": {
    "name": "ipython",
    "version": 3
   },
   "file_extension": ".py",
   "mimetype": "text/x-python",
   "name": "python",
   "nbconvert_exporter": "python",
   "pygments_lexer": "ipython3",
   "version": "3.8.3"
  }
 },
 "nbformat": 4,
 "nbformat_minor": 1
}
