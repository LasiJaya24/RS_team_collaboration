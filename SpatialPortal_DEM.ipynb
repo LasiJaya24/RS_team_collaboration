{
  "nbformat": 4,
  "nbformat_minor": 0,
  "metadata": {
    "colab": {
      "provenance": [],
      "authorship_tag": "ABX9TyOs975Q+7F1nGwp9RZQigb5",
      "include_colab_link": true
    },
    "kernelspec": {
      "name": "python3",
      "display_name": "Python 3"
    },
    "language_info": {
      "name": "python"
    }
  },
  "cells": [
    {
      "cell_type": "markdown",
      "metadata": {
        "id": "view-in-github",
        "colab_type": "text"
      },
      "source": [
        "<a href=\"https://colab.research.google.com/github/LasiJaya24/RS_team_collaboration24/blob/main/SpatialPortal_DEM.ipynb\" target=\"_parent\"><img src=\"https://colab.research.google.com/assets/colab-badge.svg\" alt=\"Open In Colab\"/></a>"
      ]
    },
    {
      "cell_type": "code",
      "execution_count": null,
      "metadata": {
        "id": "fAbP5V5Y9y01"
      },
      "outputs": [],
      "source": [
        "import geopandas as gpd\n",
        "from arcgis.gis import GIS\n",
        "from arcgis.raster import ImageryLayer\n",
        "from arcgis.geometry import Geometry\n",
        "\n",
        "# Assuming your shapefile's name is \"my_shapefile\" and it is uploaded to Colab\n",
        "shapefile_path = '/content/buffer.shp'  # '/content' is the default directory in Colab\n",
        "gdf = gpd.read_file(shapefile_path)\n",
        "\n",
        "# Connect to GIS as an anonymous user\n",
        "gis = GIS(\"https://spatial.information.qld.gov.au/arcgis\")\n",
        "\n",
        "# Get the ImageryLayer using the public elevation service item ID\n",
        "elevation_service_item_id = '278092282caf4a5ba77160df0d52f32e'  # replace with the actual item ID\n",
        "elevation_service_item = gis.content.get(elevation_service_item_id)\n",
        "elevation_layer = ImageryLayer(elevation_service_item.url, gis)\n",
        "\n",
        "# Use the bounds as the extent to export in the spatial reference of the image service\n",
        "extent_geom = {\n",
        "    \"xmin\": float(gdf.total_bounds[0]),\n",
        "    \"ymin\": float(gdf.total_bounds[1]),\n",
        "    \"xmax\": float(gdf.total_bounds[2]),\n",
        "    \"ymax\": float(gdf.total_bounds[3]),\n",
        "    \"spatialReference\": {\"wkid\": gdf.crs.to_epsg()} # Assume the shapefile has a valid EPSG code\n",
        "}\n",
        "\n",
        "# Attempt to export the imagery\n",
        "try:\n",
        "    # Use the export_image method with the extent and specify the output spatial reference\n",
        "    exported_img = elevation_layer.export_image(bbox=extent_geom, f='image', export_format=\"tiff\", image_sr=3857, save_folder='.', save_file='exported_image4.tif')\n",
        "\n",
        "    # Print the path to the exported image\n",
        "    print(\"Exported image saved to:\", 'exported_image4.tif')\n",
        "except Exception as e:\n",
        "    # Handle the exception\n",
        "    print(\"An error occurred:\", e)"
      ]
    }
  ]
}